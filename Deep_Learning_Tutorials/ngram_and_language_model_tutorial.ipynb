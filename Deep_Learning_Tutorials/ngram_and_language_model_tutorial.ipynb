{
 "cells": [
  {
   "cell_type": "code",
   "execution_count": 1,
   "id": "727c2aab",
   "metadata": {},
   "outputs": [],
   "source": [
    "from nltk.util import bigrams\n",
    "from nltk.util import ngrams\n",
    "from nltk.lm import MLE\n",
    "import pandas as pd\n",
    "import re\n",
    "from ckiptagger import data_utils\n",
    "from ckiptagger import WS\n",
    "from nltk.lm.preprocessing import padded_everygram_pipeline\n",
    "from nltk.tokenize.treebank import TreebankWordDetokenizer\n",
    "from nltk.lm import KneserNeyInterpolated\n",
    "from nltk.lm import Laplace\n",
    "from nltk.lm import WittenBellInterpolated"
   ]
  },
  {
   "cell_type": "markdown",
   "id": "c45b6000",
   "metadata": {},
   "source": [
    "## Pre-processing"
   ]
  },
  {
   "cell_type": "markdown",
   "id": "f4415702",
   "metadata": {},
   "source": [
    "* data_utils.download_data_url(\"/Users/biaoyun/Documents/111 Spring Semester Gtaduated Institute/Data\") 下載 CKIP 所需資料\n",
    "\n",
    "* 引入 CKIP 的 word segmentation 資料"
   ]
  },
  {
   "cell_type": "code",
   "execution_count": 2,
   "id": "7dd2bde1",
   "metadata": {
    "scrolled": true
   },
   "outputs": [
    {
     "name": "stderr",
     "output_type": "stream",
     "text": [
      "/Users/biaoyun/opt/anaconda3/lib/python3.8/site-packages/tensorflow/python/keras/layers/legacy_rnn/rnn_cell_impl.py:909: UserWarning: `tf.nn.rnn_cell.LSTMCell` is deprecated and will be removed in a future version. This class is equivalent as `tf.keras.layers.LSTMCell`, and will be replaced by that in Tensorflow 2.0.\n",
      "  warnings.warn(\"`tf.nn.rnn_cell.LSTMCell` is deprecated and will be \"\n",
      "/Users/biaoyun/opt/anaconda3/lib/python3.8/site-packages/tensorflow/python/keras/engine/base_layer_v1.py:1700: UserWarning: `layer.add_variable` is deprecated and will be removed in a future version. Please use `layer.add_weight` method instead.\n",
      "  warnings.warn('`layer.add_variable` is deprecated and '\n"
     ]
    }
   ],
   "source": [
    "\n",
    "ws = WS(\"/Users/biaoyun/Documents/111 Spring Semester Gtaduated Institute/Data/data\")\n"
   ]
  },
  {
   "cell_type": "markdown",
   "id": "2358183a",
   "metadata": {},
   "source": [
    "* 讀入檔案（此份檔案為 yahoo 影評資料）"
   ]
  },
  {
   "cell_type": "code",
   "execution_count": 3,
   "id": "2aca7020",
   "metadata": {
    "scrolled": true
   },
   "outputs": [
    {
     "data": {
      "text/html": [
       "<div>\n",
       "<style scoped>\n",
       "    .dataframe tbody tr th:only-of-type {\n",
       "        vertical-align: middle;\n",
       "    }\n",
       "\n",
       "    .dataframe tbody tr th {\n",
       "        vertical-align: top;\n",
       "    }\n",
       "\n",
       "    .dataframe thead th {\n",
       "        text-align: right;\n",
       "    }\n",
       "</style>\n",
       "<table border=\"1\" class=\"dataframe\">\n",
       "  <thead>\n",
       "    <tr style=\"text-align: right;\">\n",
       "      <th></th>\n",
       "      <th>user_name</th>\n",
       "      <th>publish_time</th>\n",
       "      <th>comment</th>\n",
       "      <th>movies_key</th>\n",
       "      <th>movie_name</th>\n",
       "      <th>review_score</th>\n",
       "    </tr>\n",
       "  </thead>\n",
       "  <tbody>\n",
       "    <tr>\n",
       "      <th>0</th>\n",
       "      <td>西瓜</td>\n",
       "      <td>2018-08-29 21:45:59</td>\n",
       "      <td>看完之後好難過😫也感到在浪費時間因為結局讓人好難過</td>\n",
       "      <td>0</td>\n",
       "      <td>復仇者聯盟：無限之戰</td>\n",
       "      <td>4.6</td>\n",
       "    </tr>\n",
       "    <tr>\n",
       "      <th>1</th>\n",
       "      <td>Innocent Eyes</td>\n",
       "      <td>2018-08-26 21:44:34</td>\n",
       "      <td>Marvel近期較差的片。大混戰處理得沒味道</td>\n",
       "      <td>0</td>\n",
       "      <td>復仇者聯盟：無限之戰</td>\n",
       "      <td>4.6</td>\n",
       "    </tr>\n",
       "    <tr>\n",
       "      <th>2</th>\n",
       "      <td>宏</td>\n",
       "      <td>2018-08-18 02:49:33</td>\n",
       "      <td>5顆星給在特效做得很棒，雖然有些地方還蠻瞎的</td>\n",
       "      <td>0</td>\n",
       "      <td>復仇者聯盟：無限之戰</td>\n",
       "      <td>4.6</td>\n",
       "    </tr>\n",
       "    <tr>\n",
       "      <th>3</th>\n",
       "      <td>品</td>\n",
       "      <td>2018-08-12 12:44:34</td>\n",
       "      <td>感覺不合邏輯!奇異博士為什麼要把時間寶石給他呀！一直把他困在時間迴圈裡不就得了嗎？結局 wh...</td>\n",
       "      <td>0</td>\n",
       "      <td>復仇者聯盟：無限之戰</td>\n",
       "      <td>4.6</td>\n",
       "    </tr>\n",
       "    <tr>\n",
       "      <th>4</th>\n",
       "      <td>隆</td>\n",
       "      <td>2018-08-12 00:57:40</td>\n",
       "      <td>有人說『對故事線不了解的無法體會情境』，我想我對於復仇者系列不是很瞭解，所以常常會出戲，感覺...</td>\n",
       "      <td>0</td>\n",
       "      <td>復仇者聯盟：無限之戰</td>\n",
       "      <td>4.6</td>\n",
       "    </tr>\n",
       "    <tr>\n",
       "      <th>...</th>\n",
       "      <td>...</td>\n",
       "      <td>...</td>\n",
       "      <td>...</td>\n",
       "      <td>...</td>\n",
       "      <td>...</td>\n",
       "      <td>...</td>\n",
       "    </tr>\n",
       "    <tr>\n",
       "      <th>7242</th>\n",
       "      <td>Chen</td>\n",
       "      <td>2018-02-28 14:17:03</td>\n",
       "      <td>我覺得普普通通，可以等待二輪片在看</td>\n",
       "      <td>49</td>\n",
       "      <td>犬之島</td>\n",
       "      <td>4.3</td>\n",
       "    </tr>\n",
       "    <tr>\n",
       "      <th>7243</th>\n",
       "      <td>柏樹</td>\n",
       "      <td>2018-02-28 14:05:32</td>\n",
       "      <td>真的很好看！結局出乎意料！女主角演技大耀進！</td>\n",
       "      <td>49</td>\n",
       "      <td>犬之島</td>\n",
       "      <td>4.3</td>\n",
       "    </tr>\n",
       "    <tr>\n",
       "      <th>7244</th>\n",
       "      <td>橘子</td>\n",
       "      <td>2018-02-28 13:06:57</td>\n",
       "      <td>個人覺得這部片的劇情很緊湊 給人緊張、刺激的興奮感但缺點是整體節奏有點快（根本是本人太慢速了...</td>\n",
       "      <td>49</td>\n",
       "      <td>犬之島</td>\n",
       "      <td>4.3</td>\n",
       "    </tr>\n",
       "    <tr>\n",
       "      <th>7245</th>\n",
       "      <td>阿豪</td>\n",
       "      <td>2018-02-28 12:11:23</td>\n",
       "      <td>真的超超超級好看超級大推 完全熱血 刺激 無冷場</td>\n",
       "      <td>49</td>\n",
       "      <td>犬之島</td>\n",
       "      <td>4.3</td>\n",
       "    </tr>\n",
       "    <tr>\n",
       "      <th>7246</th>\n",
       "      <td>浩哥</td>\n",
       "      <td>2018-02-28 00:08:02</td>\n",
       "      <td>An Intense Thriller!!!Jennifer Lawrence is so ...</td>\n",
       "      <td>49</td>\n",
       "      <td>犬之島</td>\n",
       "      <td>4.3</td>\n",
       "    </tr>\n",
       "  </tbody>\n",
       "</table>\n",
       "<p>7247 rows × 6 columns</p>\n",
       "</div>"
      ],
      "text/plain": [
       "          user_name         publish_time  \\\n",
       "0                西瓜  2018-08-29 21:45:59   \n",
       "1     Innocent Eyes  2018-08-26 21:44:34   \n",
       "2                 宏  2018-08-18 02:49:33   \n",
       "3                 品  2018-08-12 12:44:34   \n",
       "4                 隆  2018-08-12 00:57:40   \n",
       "...             ...                  ...   \n",
       "7242           Chen  2018-02-28 14:17:03   \n",
       "7243             柏樹  2018-02-28 14:05:32   \n",
       "7244             橘子  2018-02-28 13:06:57   \n",
       "7245             阿豪  2018-02-28 12:11:23   \n",
       "7246             浩哥  2018-02-28 00:08:02   \n",
       "\n",
       "                                                comment  movies_key  \\\n",
       "0                             看完之後好難過😫也感到在浪費時間因為結局讓人好難過           0   \n",
       "1                                Marvel近期較差的片。大混戰處理得沒味道           0   \n",
       "2                                5顆星給在特效做得很棒，雖然有些地方還蠻瞎的           0   \n",
       "3     感覺不合邏輯!奇異博士為什麼要把時間寶石給他呀！一直把他困在時間迴圈裡不就得了嗎？結局 wh...           0   \n",
       "4     有人說『對故事線不了解的無法體會情境』，我想我對於復仇者系列不是很瞭解，所以常常會出戲，感覺...           0   \n",
       "...                                                 ...         ...   \n",
       "7242                                  我覺得普普通通，可以等待二輪片在看          49   \n",
       "7243                             真的很好看！結局出乎意料！女主角演技大耀進！          49   \n",
       "7244  個人覺得這部片的劇情很緊湊 給人緊張、刺激的興奮感但缺點是整體節奏有點快（根本是本人太慢速了...          49   \n",
       "7245                           真的超超超級好看超級大推 完全熱血 刺激 無冷場          49   \n",
       "7246  An Intense Thriller!!!Jennifer Lawrence is so ...          49   \n",
       "\n",
       "      movie_name  review_score  \n",
       "0     復仇者聯盟：無限之戰           4.6  \n",
       "1     復仇者聯盟：無限之戰           4.6  \n",
       "2     復仇者聯盟：無限之戰           4.6  \n",
       "3     復仇者聯盟：無限之戰           4.6  \n",
       "4     復仇者聯盟：無限之戰           4.6  \n",
       "...          ...           ...  \n",
       "7242         犬之島           4.3  \n",
       "7243         犬之島           4.3  \n",
       "7244         犬之島           4.3  \n",
       "7245         犬之島           4.3  \n",
       "7246         犬之島           4.3  \n",
       "\n",
       "[7247 rows x 6 columns]"
      ]
     },
     "execution_count": 3,
     "metadata": {},
     "output_type": "execute_result"
    }
   ],
   "source": [
    "\n",
    "movie_review = pd.read_csv('/Users/biaoyun/Documents/111 Spring Semester Gtaduated Institute/Data/yahoo_movie_reviews.txt', sep='\\t')\n",
    "movie_review\n"
   ]
  },
  {
   "cell_type": "markdown",
   "id": "8ff1dc0c",
   "metadata": {},
   "source": [
    "* 開始斷詞 （只取用 comment欄位）"
   ]
  },
  {
   "cell_type": "code",
   "execution_count": 4,
   "id": "815c5309",
   "metadata": {},
   "outputs": [],
   "source": [
    "\n",
    "token_list = []\n",
    "for text in movie_review[\"comment\"]:\n",
    "  tokens = ws([text])\n",
    "  token_list.append(tokens)\n",
    "    "
   ]
  },
  {
   "cell_type": "markdown",
   "id": "83b97b93",
   "metadata": {},
   "source": [
    "* 把斷完的 list 打開 （flatten）"
   ]
  },
  {
   "cell_type": "code",
   "execution_count": 5,
   "id": "f9feedeb",
   "metadata": {},
   "outputs": [],
   "source": [
    "\n",
    "flatten_tokens = []\n",
    "for list_1 in token_list:\n",
    "  for sublist in list_1:\n",
    "    flatten_tokens.append(sublist)\n",
    "    "
   ]
  },
  {
   "cell_type": "markdown",
   "id": "c5916a52",
   "metadata": {},
   "source": [
    "## 模型訓練"
   ]
  },
  {
   "cell_type": "markdown",
   "id": "893c50dd",
   "metadata": {},
   "source": [
    "### 沒有 smoothing 的原始模型"
   ]
  },
  {
   "cell_type": "markdown",
   "id": "8f24db97",
   "metadata": {},
   "source": [
    "* 使用 3-grams 訓練模型"
   ]
  },
  {
   "cell_type": "code",
   "execution_count": 6,
   "id": "6233b358",
   "metadata": {},
   "outputs": [
    {
     "name": "stdout",
     "output_type": "stream",
     "text": [
      "<Vocabulary with cutoff=1 unk_label='<UNK>' and 15753 items>\n"
     ]
    }
   ],
   "source": [
    "\n",
    "n = 3\n",
    "train_pad_ngrams, flat_vocab = padded_everygram_pipeline(n, flatten_tokens)\n",
    "\n",
    "model = MLE(n)    # initialize a model\n",
    "model.fit(train_pad_ngrams, flat_vocab)\n",
    "\n",
    "print(model.vocab)  # vocab used for training\n"
   ]
  },
  {
   "cell_type": "markdown",
   "id": "60edee8e",
   "metadata": {},
   "source": [
    "* 印出 n-gram 數量"
   ]
  },
  {
   "cell_type": "code",
   "execution_count": 7,
   "id": "6785505f",
   "metadata": {},
   "outputs": [
    {
     "name": "stdout",
     "output_type": "stream",
     "text": [
      "<NgramCounter with 3 ngram orders and 792381 ngrams>\n"
     ]
    }
   ],
   "source": [
    "\n",
    "print(model.counts)\n"
   ]
  },
  {
   "cell_type": "markdown",
   "id": "979e7bee",
   "metadata": {},
   "source": [
    "* 去掉不需要的標示，讓生成的短文較好閱讀"
   ]
  },
  {
   "cell_type": "code",
   "execution_count": 8,
   "id": "e7f53556",
   "metadata": {},
   "outputs": [],
   "source": [
    "\n",
    "detokenize = TreebankWordDetokenizer().detokenize\n",
    "\n",
    "def generate_sent(model, num_words, random_seed=42):\n",
    "    \"\"\"\n",
    "    :param model: An ngram language model from `nltk.lm.model`.\n",
    "    :param num_words: Max no. of words to generate.\n",
    "    :param random_seed: Seed value for random.\n",
    "    \"\"\"\n",
    "    content = []\n",
    "    for token in model.generate(num_words, random_seed=random_seed):\n",
    "        if token == '<s>':\n",
    "            continue\n",
    "        if token == '</s>':\n",
    "            break\n",
    "        content.append(token)\n",
    "    return detokenize(content)\n"
   ]
  },
  {
   "cell_type": "markdown",
   "id": "5652bf8b",
   "metadata": {},
   "source": [
    "### 原始 3-grams 模型生成的短文\n",
    "\n",
    "* 可以發現其實在還沒有 smoothing 之前所生成的內容就滿符合簡短的影評的特色。"
   ]
  },
  {
   "cell_type": "code",
   "execution_count": 9,
   "id": "e040d847",
   "metadata": {
    "scrolled": true
   },
   "outputs": [
    {
     "data": {
      "text/plain": [
       "'劇情 唬爛 不 合 胃口 ， 也 不能 怪 他們 ， 主角 們 內心 層面 的 刻畫, 這 應該 是 低成本 的 國片.'"
      ]
     },
     "execution_count": 9,
     "metadata": {},
     "output_type": "execute_result"
    }
   ],
   "source": [
    "generate_sent(model, 30, random_seed=100)"
   ]
  },
  {
   "cell_type": "markdown",
   "id": "f8f794de",
   "metadata": {},
   "source": [
    "### 使用 KneserNeyInterpolated 訓練模型"
   ]
  },
  {
   "cell_type": "code",
   "execution_count": 10,
   "id": "bb9897f0",
   "metadata": {
    "scrolled": true
   },
   "outputs": [
    {
     "name": "stdout",
     "output_type": "stream",
     "text": [
      "<Vocabulary with cutoff=1 unk_label='<UNK>' and 15753 items>\n"
     ]
    }
   ],
   "source": [
    "\n",
    "n = 3\n",
    "train_pad_ngrams, flat_vocab = padded_everygram_pipeline(n, flatten_tokens)\n",
    "\n",
    "KNI_model = KneserNeyInterpolated(n)\n",
    "KNI_model.fit(train_pad_ngrams, flat_vocab)\n",
    "\n",
    "print(KNI_model.vocab)\n"
   ]
  },
  {
   "cell_type": "markdown",
   "id": "8e54a550",
   "metadata": {},
   "source": [
    "### KneserNeyInterpolated 模型生成的短文\n",
    "\n",
    "* 句子看起來較為複雜也仍算通順"
   ]
  },
  {
   "cell_type": "code",
   "execution_count": 11,
   "id": "cc0f573e",
   "metadata": {},
   "outputs": [
    {
     "data": {
      "text/plain": [
       "'人們 反思 一些 事情 ， 侷限 在 框框 中 ， 兩 個 半 小時 2200萬 的 成本 換到 極 大 收穫 的 一 部 喜劇   充滿 教育 意義 很'"
      ]
     },
     "execution_count": 11,
     "metadata": {},
     "output_type": "execute_result"
    }
   ],
   "source": [
    "generate_sent(KNI_model, 30, random_seed=100)"
   ]
  },
  {
   "cell_type": "markdown",
   "id": "86016783",
   "metadata": {},
   "source": [
    "## 以下因為好奇，所以多用幾種不同的 smoothing 方式訓練模型"
   ]
  },
  {
   "cell_type": "markdown",
   "id": "6f4a384d",
   "metadata": {},
   "source": [
    "### 使用 Laplace 訓練模型"
   ]
  },
  {
   "cell_type": "code",
   "execution_count": 12,
   "id": "82b36b94",
   "metadata": {},
   "outputs": [
    {
     "name": "stdout",
     "output_type": "stream",
     "text": [
      "<Vocabulary with cutoff=1 unk_label='<UNK>' and 15753 items>\n"
     ]
    }
   ],
   "source": [
    "\n",
    "n = 3\n",
    "train_pad_ngrams, flat_vocab = padded_everygram_pipeline(n, flatten_tokens)\n",
    "\n",
    "LAP_model = Laplace(n)\n",
    "LAP_model.fit(train_pad_ngrams, flat_vocab)\n",
    "\n",
    "print(LAP_model.vocab)\n"
   ]
  },
  {
   "cell_type": "markdown",
   "id": "6d6471fc",
   "metadata": {},
   "source": [
    "### Laplace 模型生成的短文\n",
    "\n",
    "* 如果把「普通人」和「你」的位置調換結果就更好了呢 XD"
   ]
  },
  {
   "cell_type": "code",
   "execution_count": 13,
   "id": "b88c9861",
   "metadata": {},
   "outputs": [
    {
     "data": {
      "text/plain": [
       "'前 二 集 加 在一起 算是 一 個 內容 不 夠 催淚, 大鬥 場面 又 不 多, 可能 是 因為 你 一定 會 受不了 ， 普通人'"
      ]
     },
     "execution_count": 13,
     "metadata": {},
     "output_type": "execute_result"
    }
   ],
   "source": [
    "generate_sent(LAP_model, 30, random_seed=100)"
   ]
  },
  {
   "cell_type": "markdown",
   "id": "1f250778",
   "metadata": {},
   "source": [
    "### 使用 WittenBellInterpolated 訓練模型"
   ]
  },
  {
   "cell_type": "code",
   "execution_count": 14,
   "id": "ccdbbb44",
   "metadata": {},
   "outputs": [
    {
     "name": "stdout",
     "output_type": "stream",
     "text": [
      "<Vocabulary with cutoff=1 unk_label='<UNK>' and 15753 items>\n"
     ]
    }
   ],
   "source": [
    "\n",
    "n = 3\n",
    "train_pad_ngrams, flat_vocab = padded_everygram_pipeline(n, flatten_tokens)\n",
    "\n",
    "WBI_model = WittenBellInterpolated(n)\n",
    "WBI_model.fit(train_pad_ngrams, flat_vocab)\n",
    "\n",
    "print(WBI_model.vocab)\n"
   ]
  },
  {
   "cell_type": "markdown",
   "id": "e19b20b4",
   "metadata": {},
   "source": [
    "### WittenBellInterpolated 模型生成的短文\n",
    "\n",
    "* 意外地竟然和原始沒有 smoothing 過的 3-grams 模型結果一樣！"
   ]
  },
  {
   "cell_type": "code",
   "execution_count": 15,
   "id": "1733456b",
   "metadata": {},
   "outputs": [
    {
     "data": {
      "text/plain": [
       "'劇情 唬爛 不 合 胃口 ， 也 不能 怪 他們 ， 主角 們 內心 層面 的 刻畫, 這 應該 是 低成本 的 國片.'"
      ]
     },
     "execution_count": 15,
     "metadata": {},
     "output_type": "execute_result"
    }
   ],
   "source": [
    "generate_sent(WBI_model, 30, random_seed=100)"
   ]
  }
 ],
 "metadata": {
  "kernelspec": {
   "display_name": "Python 3",
   "language": "python",
   "name": "python3"
  },
  "language_info": {
   "codemirror_mode": {
    "name": "ipython",
    "version": 3
   },
   "file_extension": ".py",
   "mimetype": "text/x-python",
   "name": "python",
   "nbconvert_exporter": "python",
   "pygments_lexer": "ipython3",
   "version": "3.8.2"
  }
 },
 "nbformat": 4,
 "nbformat_minor": 5
}
