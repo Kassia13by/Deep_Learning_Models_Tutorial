{
 "cells": [
  {
   "cell_type": "markdown",
   "id": "0d6fc67f",
   "metadata": {},
   "source": [
    "# Assignment\n",
    "\n",
    "1. Use your own dataset to train a logistic regression model. (25%)\n",
    "\n",
    "2. Play around with the arguments listed in the `LogisticRegression()`, and explain one of the parameters. (10%)\n",
    "\n",
    "3. Use this [approach](https://scikit-learn.org/stable/modules/generated/sklearn.linear_model.SGDClassifier.html) to re-train a logistic regression model again (and try to tune some parameters), and show the f-score of the model performance. (30%)\n",
    "\n",
    "4. Advanced: work on how to do mini-batches the approach mentioned in step 3. (hint: `partial_fit()`) (25%)\n",
    "\n",
    "5. Plot out f-scores of the models trained with different learning rates. (from 0.1 to 3.0) (10%)\n",
    "\n",
    "*If time is available, it is a very good practice to build a logistic regression model from scratch without implementing the `sklearn` package. You may simply walk through the tutorials provided."
   ]
  },
  {
   "cell_type": "markdown",
   "id": "7775c761",
   "metadata": {},
   "source": [
    "### Pre-processing"
   ]
  },
  {
   "cell_type": "code",
   "execution_count": 1,
   "id": "a31bb6a8",
   "metadata": {},
   "outputs": [],
   "source": [
    "import numpy as np\n",
    "import pandas as pd\n",
    "import math \n",
    "import random as rn\n",
    "import matplotlib.pyplot as plt\n",
    "from sklearn import preprocessing\n",
    "from sklearn.preprocessing import StandardScaler\n",
    "from sklearn.model_selection import train_test_split\n",
    "from sklearn.linear_model import LogisticRegression\n",
    "from random import choices\n",
    "from sklearn.metrics import f1_score\n",
    "from sklearn.preprocessing import LabelEncoder\n",
    "from sklearn.linear_model import SGDClassifier\n",
    "from sklearn.metrics import classification_report\n",
    "from statistics import mean \n",
    "from sklearn.metrics import confusion_matrix, ConfusionMatrixDisplay, precision_recall_fscore_support, accuracy_score"
   ]
  },
  {
   "cell_type": "code",
   "execution_count": 2,
   "id": "106fa38d",
   "metadata": {},
   "outputs": [],
   "source": [
    "\n",
    "def model_metrics(prediction, label): \n",
    "    \n",
    "    print(ConfusionMatrixDisplay.from_predictions(label, prediction, cmap = \"Wistia\")) \n",
    "    evaluation = precision_recall_fscore_support(label, prediction, average='macro') \n",
    "    accuracy = accuracy_score(label, prediction) # 計算accuracy\n",
    "\n",
    "    print(\"accuracy: \" + str(round(accuracy, 2)) + \"\\nprecision: \" + str(round(evaluation[0], 2)) + \"\\nrecall: \" + str(round(evaluation[1], 2)) + \"\\nfscore: \" + str(round(evaluation[2],2)))"
   ]
  },
  {
   "cell_type": "markdown",
   "id": "10c72221",
   "metadata": {},
   "source": [
    "### 讀資料\n",
    "\n",
    "* 這次使用的仍是上週所使用的資料集，因為分類目的一致，故比照上週之資料前處理方式，簡介如下：\n",
    "\n",
    "* 此份資料為信用卡用戶資料（從 Kaggle 取得）\n",
    "* 此次分類任務為透過用卡人之基本資訊（包含使用現況、年齡、性別、教育程度、婚姻狀況、卡別、卡片額度等等），去預測用卡人之薪水區間\n",
    "* 由於原始資料將薪水區間分得過細，故重新整理薪水區間之資料，刪除「Unknown」和「Less than 40K」，並將 80K-120K 和 120K 以上標示為「high」，剩下為「normal」的二元分類，置於 「label」 欄位"
   ]
  },
  {
   "cell_type": "code",
   "execution_count": 3,
   "id": "7820d765",
   "metadata": {},
   "outputs": [],
   "source": [
    "card = pd.read_csv('/Users/biaoyun/Documents/111 Spring Semester Gtaduated Institute/Data/card.csv', sep='\\t', index_col=0)"
   ]
  },
  {
   "cell_type": "code",
   "execution_count": 4,
   "id": "e17a5174",
   "metadata": {},
   "outputs": [],
   "source": [
    "# 雖然上週有說可以使用 index 方式找 columns，但因為處理方式相同，所以我直接複製之前的語法了xd\n",
    "\n",
    "card['Attrition_Flag'] = LabelEncoder().fit_transform(card.Attrition_Flag.values)\n",
    "card['Gender'] = LabelEncoder().fit_transform(card.Gender.values)\n",
    "card['Education_Level'] = LabelEncoder().fit_transform(card.Education_Level.values)\n",
    "card['Marital_Status'] = LabelEncoder().fit_transform(card.Marital_Status.values)\n",
    "card['Card_Category'] = LabelEncoder().fit_transform(card.Card_Category.values)\n",
    "card['label'] = LabelEncoder().fit_transform(card.label.values)\n",
    "\n",
    "features = card[[\"Attrition_Flag\", \"Customer_Age\" , \"Gender\", \"Dependent_count\", \"Education_Level\", \"Card_Category\", \"Months_on_book\", \"Months_Inactive_12_mon\", \"Credit_Limit\"]]\n",
    "target = card[\"label\"] "
   ]
  },
  {
   "cell_type": "code",
   "execution_count": 5,
   "id": "4c8248a1",
   "metadata": {
    "scrolled": true
   },
   "outputs": [
    {
     "data": {
      "text/html": [
       "<div>\n",
       "<style scoped>\n",
       "    .dataframe tbody tr th:only-of-type {\n",
       "        vertical-align: middle;\n",
       "    }\n",
       "\n",
       "    .dataframe tbody tr th {\n",
       "        vertical-align: top;\n",
       "    }\n",
       "\n",
       "    .dataframe thead th {\n",
       "        text-align: right;\n",
       "    }\n",
       "</style>\n",
       "<table border=\"1\" class=\"dataframe\">\n",
       "  <thead>\n",
       "    <tr style=\"text-align: right;\">\n",
       "      <th></th>\n",
       "      <th>Attrition_Flag</th>\n",
       "      <th>Customer_Age</th>\n",
       "      <th>Gender</th>\n",
       "      <th>Dependent_count</th>\n",
       "      <th>Education_Level</th>\n",
       "      <th>Marital_Status</th>\n",
       "      <th>Card_Category</th>\n",
       "      <th>Months_on_book</th>\n",
       "      <th>Total_Relationship_Count</th>\n",
       "      <th>Months_Inactive_12_mon</th>\n",
       "      <th>Contacts_Count_12_mon</th>\n",
       "      <th>Credit_Limit</th>\n",
       "      <th>label</th>\n",
       "    </tr>\n",
       "    <tr>\n",
       "      <th>CLIENTNUM</th>\n",
       "      <th></th>\n",
       "      <th></th>\n",
       "      <th></th>\n",
       "      <th></th>\n",
       "      <th></th>\n",
       "      <th></th>\n",
       "      <th></th>\n",
       "      <th></th>\n",
       "      <th></th>\n",
       "      <th></th>\n",
       "      <th></th>\n",
       "      <th></th>\n",
       "      <th></th>\n",
       "    </tr>\n",
       "  </thead>\n",
       "  <tbody>\n",
       "    <tr>\n",
       "      <th>768805383</th>\n",
       "      <td>1</td>\n",
       "      <td>45</td>\n",
       "      <td>1</td>\n",
       "      <td>3</td>\n",
       "      <td>3</td>\n",
       "      <td>1</td>\n",
       "      <td>0</td>\n",
       "      <td>39</td>\n",
       "      <td>5</td>\n",
       "      <td>1</td>\n",
       "      <td>3</td>\n",
       "      <td>12691.0</td>\n",
       "      <td>1</td>\n",
       "    </tr>\n",
       "    <tr>\n",
       "      <th>713982108</th>\n",
       "      <td>1</td>\n",
       "      <td>51</td>\n",
       "      <td>1</td>\n",
       "      <td>3</td>\n",
       "      <td>2</td>\n",
       "      <td>1</td>\n",
       "      <td>0</td>\n",
       "      <td>36</td>\n",
       "      <td>4</td>\n",
       "      <td>1</td>\n",
       "      <td>0</td>\n",
       "      <td>3418.0</td>\n",
       "      <td>0</td>\n",
       "    </tr>\n",
       "    <tr>\n",
       "      <th>709106358</th>\n",
       "      <td>1</td>\n",
       "      <td>40</td>\n",
       "      <td>1</td>\n",
       "      <td>3</td>\n",
       "      <td>5</td>\n",
       "      <td>1</td>\n",
       "      <td>0</td>\n",
       "      <td>21</td>\n",
       "      <td>5</td>\n",
       "      <td>1</td>\n",
       "      <td>0</td>\n",
       "      <td>4716.0</td>\n",
       "      <td>1</td>\n",
       "    </tr>\n",
       "    <tr>\n",
       "      <th>713061558</th>\n",
       "      <td>1</td>\n",
       "      <td>44</td>\n",
       "      <td>1</td>\n",
       "      <td>2</td>\n",
       "      <td>2</td>\n",
       "      <td>1</td>\n",
       "      <td>0</td>\n",
       "      <td>36</td>\n",
       "      <td>3</td>\n",
       "      <td>1</td>\n",
       "      <td>2</td>\n",
       "      <td>4010.0</td>\n",
       "      <td>1</td>\n",
       "    </tr>\n",
       "    <tr>\n",
       "      <th>810347208</th>\n",
       "      <td>1</td>\n",
       "      <td>51</td>\n",
       "      <td>1</td>\n",
       "      <td>4</td>\n",
       "      <td>6</td>\n",
       "      <td>1</td>\n",
       "      <td>1</td>\n",
       "      <td>46</td>\n",
       "      <td>6</td>\n",
       "      <td>1</td>\n",
       "      <td>3</td>\n",
       "      <td>34516.0</td>\n",
       "      <td>0</td>\n",
       "    </tr>\n",
       "  </tbody>\n",
       "</table>\n",
       "</div>"
      ],
      "text/plain": [
       "           Attrition_Flag  Customer_Age  Gender  Dependent_count  \\\n",
       "CLIENTNUM                                                          \n",
       "768805383               1            45       1                3   \n",
       "713982108               1            51       1                3   \n",
       "709106358               1            40       1                3   \n",
       "713061558               1            44       1                2   \n",
       "810347208               1            51       1                4   \n",
       "\n",
       "           Education_Level  Marital_Status  Card_Category  Months_on_book  \\\n",
       "CLIENTNUM                                                                   \n",
       "768805383                3               1              0              39   \n",
       "713982108                2               1              0              36   \n",
       "709106358                5               1              0              21   \n",
       "713061558                2               1              0              36   \n",
       "810347208                6               1              1              46   \n",
       "\n",
       "           Total_Relationship_Count  Months_Inactive_12_mon  \\\n",
       "CLIENTNUM                                                     \n",
       "768805383                         5                       1   \n",
       "713982108                         4                       1   \n",
       "709106358                         5                       1   \n",
       "713061558                         3                       1   \n",
       "810347208                         6                       1   \n",
       "\n",
       "           Contacts_Count_12_mon  Credit_Limit  label  \n",
       "CLIENTNUM                                              \n",
       "768805383                      3       12691.0      1  \n",
       "713982108                      0        3418.0      0  \n",
       "709106358                      0        4716.0      1  \n",
       "713061558                      2        4010.0      1  \n",
       "810347208                      3       34516.0      0  "
      ]
     },
     "execution_count": 5,
     "metadata": {},
     "output_type": "execute_result"
    }
   ],
   "source": [
    "card.head()"
   ]
  },
  {
   "cell_type": "code",
   "execution_count": 6,
   "id": "d68a9c74",
   "metadata": {},
   "outputs": [],
   "source": [
    "sst = StandardScaler()\n",
    "\n",
    "# Standardizing the data apart from the label column\n",
    "card_scaled = pd.DataFrame(sst.fit_transform(card.drop('label',axis=1)))\n",
    "\n",
    "# Adding the label column back to the DataFrame\n",
    "card_scaled['label'] = card.label"
   ]
  },
  {
   "cell_type": "code",
   "execution_count": 7,
   "id": "a41d9725",
   "metadata": {},
   "outputs": [],
   "source": [
    "# separate dataset into training and test sets (80:20)\n",
    "\n",
    "\n",
    "features_train, features_test, target_train, target_test = train_test_split(card_scaled[[0,1,2,3,4,5,6,7,8,9,10,11]], card.label, test_size = 0.2, random_state = 413)\n",
    "\n"
   ]
  },
  {
   "cell_type": "markdown",
   "id": "a1a4e40d",
   "metadata": {},
   "source": [
    "* 這邊將 features & target dataset 都換成 numpy array，為了方便後續做 batch training"
   ]
  },
  {
   "cell_type": "code",
   "execution_count": 8,
   "id": "35f24e8e",
   "metadata": {},
   "outputs": [],
   "source": [
    "features_train = features_train.to_numpy()\n",
    "features_test = features_test.to_numpy()\n",
    "target_train = target_train.to_numpy()\n",
    "target_test = target_test.to_numpy()"
   ]
  },
  {
   "cell_type": "markdown",
   "id": "dcab9c1d",
   "metadata": {},
   "source": [
    "## 第一題：Use your own dataset to train a logistic regression model."
   ]
  },
  {
   "cell_type": "markdown",
   "id": "6eb75fb2",
   "metadata": {},
   "source": [
    "### Model Training"
   ]
  },
  {
   "cell_type": "markdown",
   "id": "74f242f7",
   "metadata": {},
   "source": [
    "#### model without any tune"
   ]
  },
  {
   "cell_type": "code",
   "execution_count": 9,
   "id": "99682e4a",
   "metadata": {},
   "outputs": [
    {
     "data": {
      "text/plain": [
       "array([1, 1, 0, ..., 0, 0, 1])"
      ]
     },
     "execution_count": 9,
     "metadata": {},
     "output_type": "execute_result"
    }
   ],
   "source": [
    "model = LogisticRegression()  #initialize the model\n",
    "\n",
    "model.fit(features_train, target_train)  # train the model\n",
    "\n",
    "predicted_classes = model.predict(features_test) # predict\n",
    "predicted_classes"
   ]
  },
  {
   "cell_type": "markdown",
   "id": "e144c89e",
   "metadata": {},
   "source": [
    "* 此次訓練一律使用 macro f-score 做 evaluation，原因如下：\n",
    "* macro f-score 將每個類別的 f-score單獨計算，然後取平均值作為最終的 f-score。每個類別的 f-score 的計算方式與二元分類問題中的f-score 相同。對每個類別平等對待，不考慮每個類別的樣本數不同。由於其計算方式，當在每個類別的樣本數相同或者每個類別的樣本數相差不大時，macro f-score是一個合適的指標。而此次的資料集其實樣本數相差不大，所以採用 macro f-score"
   ]
  },
  {
   "cell_type": "code",
   "execution_count": 10,
   "id": "03941a40",
   "metadata": {
    "scrolled": true
   },
   "outputs": [
    {
     "name": "stdout",
     "output_type": "stream",
     "text": [
      "[[305 158]\n",
      " [ 99 529]]\n",
      "              precision    recall  f1-score   support\n",
      "\n",
      "      normal       0.75      0.66      0.70       463\n",
      "        high       0.77      0.84      0.80       628\n",
      "\n",
      "    accuracy                           0.76      1091\n",
      "   macro avg       0.76      0.75      0.75      1091\n",
      "weighted avg       0.76      0.76      0.76      1091\n",
      "\n"
     ]
    }
   ],
   "source": [
    "# evaluate the performance\n",
    "\n",
    "\n",
    "predict_LR = model.predict(features_test)\n",
    "\n",
    "\n",
    "print(confusion_matrix(target_test, predict_LR))\n",
    "print(classification_report(target_test, predict_LR, target_names=['normal', 'high']))"
   ]
  },
  {
   "cell_type": "code",
   "execution_count": 11,
   "id": "9364e23c",
   "metadata": {
    "scrolled": true
   },
   "outputs": [
    {
     "name": "stdout",
     "output_type": "stream",
     "text": [
      "0.7540691427543954\n"
     ]
    }
   ],
   "source": [
    "y_true = target_test\n",
    "y_pred = model.predict(features_test) \n",
    "\n",
    "print(f1_score(y_true, y_pred, average='macro'))"
   ]
  },
  {
   "cell_type": "markdown",
   "id": "a622914e",
   "metadata": {},
   "source": [
    "* 畫出 confusion metrics"
   ]
  },
  {
   "cell_type": "code",
   "execution_count": 12,
   "id": "8bcf114a",
   "metadata": {
    "scrolled": true
   },
   "outputs": [
    {
     "name": "stdout",
     "output_type": "stream",
     "text": [
      "<sklearn.metrics._plot.confusion_matrix.ConfusionMatrixDisplay object at 0x7f86e61d85e0>\n",
      "accuracy: 0.76\n",
      "precision: 0.76\n",
      "recall: 0.75\n",
      "fscore: 0.75\n"
     ]
    },
    {
     "data": {
      "image/png": "[encoded data removed]",
      "text/plain": [
       "<Figure size 432x288 with 2 Axes>"
      ]
     },
     "metadata": {
      "needs_background": "light"
     },
     "output_type": "display_data"
    }
   ],
   "source": [
    "model_metrics(predict_LR, target_test)"
   ]
  },
  {
   "cell_type": "markdown",
   "id": "024f2d3b",
   "metadata": {},
   "source": [
    "### 第二題：Play around with the arguments"
   ]
  },
  {
   "cell_type": "markdown",
   "id": "d3f18b98",
   "metadata": {},
   "source": [
    "#### try to tune model with difference parameters\n",
    "\n",
    "* model with class_weight = 'balanced'"
   ]
  },
  {
   "cell_type": "code",
   "execution_count": 13,
   "id": "d6781238",
   "metadata": {},
   "outputs": [
    {
     "data": {
      "text/plain": [
       "array([1, 1, 0, ..., 0, 0, 1])"
      ]
     },
     "execution_count": 13,
     "metadata": {},
     "output_type": "execute_result"
    }
   ],
   "source": [
    "# parameters of Logistic Regression (class_weight)\n",
    "\n",
    "model_2 = LogisticRegression(class_weight= 'balanced', random_state = 413)  #initialize the model\n",
    "\n",
    "model_2.fit(features_train, target_train)  # train the model\n",
    "\n",
    "predicted_classes_2 = model_2.predict(features_test) # predict\n",
    "predicted_classes_2\n"
   ]
  },
  {
   "cell_type": "code",
   "execution_count": 14,
   "id": "901f7426",
   "metadata": {},
   "outputs": [
    {
     "name": "stdout",
     "output_type": "stream",
     "text": [
      "[[342 121]\n",
      " [167 461]]\n",
      "              precision    recall  f1-score   support\n",
      "\n",
      "      normal       0.67      0.74      0.70       463\n",
      "        high       0.79      0.73      0.76       628\n",
      "\n",
      "    accuracy                           0.74      1091\n",
      "   macro avg       0.73      0.74      0.73      1091\n",
      "weighted avg       0.74      0.74      0.74      1091\n",
      "\n"
     ]
    }
   ],
   "source": [
    "# evaluate the performance\n",
    "\n",
    "\n",
    "predict_LR_2 = model_2.predict(features_test)\n",
    "\n",
    "\n",
    "print(confusion_matrix(target_test, predict_LR_2))\n",
    "print(classification_report(target_test, predict_LR_2, target_names=['normal', 'high']))"
   ]
  },
  {
   "cell_type": "code",
   "execution_count": 15,
   "id": "b547eb66",
   "metadata": {},
   "outputs": [
    {
     "name": "stdout",
     "output_type": "stream",
     "text": [
      "0.732843587389042\n"
     ]
    }
   ],
   "source": [
    "y_true = target_test\n",
    "y_pred = model_2.predict(features_test) \n",
    "\n",
    "print(f1_score(y_true, y_pred, average='macro'))"
   ]
  },
  {
   "cell_type": "code",
   "execution_count": 16,
   "id": "af22c477",
   "metadata": {
    "scrolled": false
   },
   "outputs": [
    {
     "name": "stdout",
     "output_type": "stream",
     "text": [
      "<sklearn.metrics._plot.confusion_matrix.ConfusionMatrixDisplay object at 0x7f86e61d81f0>\n",
      "accuracy: 0.74\n",
      "precision: 0.73\n",
      "recall: 0.74\n",
      "fscore: 0.73\n"
     ]
    },
    {
     "data": {
      "image/png": "[encoded data removed]",
      "text/plain": [
       "<Figure size 432x288 with 2 Axes>"
      ]
     },
     "metadata": {
      "needs_background": "light"
     },
     "output_type": "display_data"
    }
   ],
   "source": [
    "model_metrics(predict_LR_2, target_test)"
   ]
  },
  {
   "cell_type": "markdown",
   "id": "779d5c32",
   "metadata": {},
   "source": [
    "#### model with C = 1e9"
   ]
  },
  {
   "cell_type": "code",
   "execution_count": 17,
   "id": "c690ec32",
   "metadata": {},
   "outputs": [
    {
     "data": {
      "text/plain": [
       "array([1, 1, 0, ..., 0, 0, 1])"
      ]
     },
     "execution_count": 17,
     "metadata": {},
     "output_type": "execute_result"
    }
   ],
   "source": [
    "# parameters of Logistic Regression (C)\n",
    "\n",
    "model_3 = LogisticRegression(C=1e9, random_state = 413)  #initialize the model\n",
    "\n",
    "model_3.fit(features_train, target_train)  # train the model\n",
    "\n",
    "predicted_classes_3 = model_3.predict(features_test) # predict\n",
    "predicted_classes_3\n",
    "\n"
   ]
  },
  {
   "cell_type": "code",
   "execution_count": 18,
   "id": "085287ed",
   "metadata": {
    "scrolled": true
   },
   "outputs": [
    {
     "name": "stdout",
     "output_type": "stream",
     "text": [
      "[[305 158]\n",
      " [ 99 529]]\n",
      "              precision    recall  f1-score   support\n",
      "\n",
      "      normal       0.75      0.66      0.70       463\n",
      "        high       0.77      0.84      0.80       628\n",
      "\n",
      "    accuracy                           0.76      1091\n",
      "   macro avg       0.76      0.75      0.75      1091\n",
      "weighted avg       0.76      0.76      0.76      1091\n",
      "\n"
     ]
    }
   ],
   "source": [
    "# evaluate the performance\n",
    "\n",
    "\n",
    "predict_LR_3 = model_3.predict(features_test)\n",
    "\n",
    "\n",
    "print(confusion_matrix(target_test, predict_LR_3))\n",
    "print(classification_report(target_test, predict_LR_3, target_names=['normal', 'high']))"
   ]
  },
  {
   "cell_type": "code",
   "execution_count": 19,
   "id": "99170fb1",
   "metadata": {},
   "outputs": [
    {
     "name": "stdout",
     "output_type": "stream",
     "text": [
      "0.7540691427543954\n"
     ]
    }
   ],
   "source": [
    "y_true = target_test\n",
    "y_pred = model_3.predict(features_test) \n",
    "\n",
    "print(f1_score(y_true, y_pred, average='macro'))"
   ]
  },
  {
   "cell_type": "code",
   "execution_count": 20,
   "id": "953d14ae",
   "metadata": {
    "scrolled": false
   },
   "outputs": [
    {
     "name": "stdout",
     "output_type": "stream",
     "text": [
      "<sklearn.metrics._plot.confusion_matrix.ConfusionMatrixDisplay object at 0x7f86e6905850>\n",
      "accuracy: 0.76\n",
      "precision: 0.76\n",
      "recall: 0.75\n",
      "fscore: 0.75\n"
     ]
    },
    {
     "data": {
      "image/png": "[encoded data removed]",
      "text/plain": [
       "<Figure size 432x288 with 2 Axes>"
      ]
     },
     "metadata": {
      "needs_background": "light"
     },
     "output_type": "display_data"
    }
   ],
   "source": [
    "model_metrics(predict_LR_3, target_test)"
   ]
  },
  {
   "cell_type": "markdown",
   "id": "cff4edfe",
   "metadata": {},
   "source": [
    "#### 第二題心得：\n",
    "\n",
    "* 這題其實我單獨試了好幾個 parameters (單獨測試是因為怕參數之間互相影響)，但許多參數都沒什麼特別大的變化，像是上面有 print 出來的，將 C 調成 1e9，就和沒有調是一樣的，所以就沒有一一列出來了。C 其實應該是個 hyperparameter，讓 model 知道如何選擇 parameter。這裡，較小的 C 值會增強 regularization。但也許因為我的資料算是平均的，所以沒有什麼影響。\n",
    "\n",
    "* 另外，發現調 class_weighted = 'balanced' 差異滿明顯的，這個參數將每個 class 的權重調成一致。這在沒有那麼不平衡的資料中可以 get 更多 True positive， recall 有機會上升，但也更有可能反而提升 False positive。整體而言，它就是會提高 positive 的量，所以也容易導致最終預測出來的 positive event 高於實際值。而我此次訓練的結果就是這種情況，看 confusion matrics 可以明顯的發現，True positive 提高了，與此同時，False positive 也增加，這樣整體表現反而是呈現下降的結果。還不如不要調"
   ]
  },
  {
   "cell_type": "markdown",
   "id": "f6a3fa14",
   "metadata": {},
   "source": [
    "### 第三題：Retrain Logistic Regression with SGDClassifier. Use this approach to re-train a logistic regression model again (and try to tune some parameters), and show the f-score of the model performance. \n",
    "\n",
    "* 這邊我使用 class_weight, penalty 和 alpha 來調整模型，loss = 'log_loss' 則代表是 logistic regression 模型。\n",
    "* alpha 是控制正則化強度的超參數，penalty 則把預設的 l2 改成 l1，但是結果比沒有調過的 logistic regression 還低。我猜是因為 l1 和 l2 本身特質的差異所導致。\n",
    "\n",
    "* l1 正則化的懲罰項是權重向量中各個元素的絕對值之和，可以將一部分權重歸零，從而使得模型變得更加稀疏，即去掉一些不重要的特徵，使得模型更加簡單，減少過擬合的可能性。因此，l1 正則化常被用於特徵選擇。\n",
    "\n",
    "* l2 正則化的懲罰項是權重向量中各個元素的平方和，可以使得所有的權重都趨向於接近於 0，但不會歸零。因此，l2 正則化可以減少模型的複雜度，降低過擬合的風險，但不會去掉不重要的特徵。\n",
    "\n",
    "* 因此，在選擇正則化方法時，需要根據具體的問題和數據特徵來選擇，一般來說，如果特徵數目較多，可以考慮使用 l1 正則化來進行特徵選擇，如果特徵數目較少，可以使用 l2 正則化來降低模型複雜度和減少過擬合的風險。而我的特徵數目不算多，所以可能原本的 l2 比較適合。"
   ]
  },
  {
   "cell_type": "code",
   "execution_count": 21,
   "id": "7f7b8a39",
   "metadata": {},
   "outputs": [
    {
     "data": {
      "text/plain": [
       "array([1, 1, 0, ..., 0, 0, 0])"
      ]
     },
     "execution_count": 21,
     "metadata": {},
     "output_type": "execute_result"
    }
   ],
   "source": [
    "#  re-train a logistic regression\n",
    "\n",
    "model_retrain = SGDClassifier(class_weight = 'balanced', penalty='l1', loss='log_loss', alpha = 0.0005, random_state = 413)\n",
    "\n",
    "model_retrain.fit(features_train, target_train) \n",
    "\n",
    "predicted_classes_re = model_retrain.predict(features_test) # predict\n",
    "predicted_classes_re"
   ]
  },
  {
   "cell_type": "code",
   "execution_count": 22,
   "id": "c1115489",
   "metadata": {},
   "outputs": [
    {
     "name": "stdout",
     "output_type": "stream",
     "text": [
      "[[374  89]\n",
      " [214 414]]\n",
      "              precision    recall  f1-score   support\n",
      "\n",
      "      normal       0.64      0.81      0.71       463\n",
      "        high       0.82      0.66      0.73       628\n",
      "\n",
      "    accuracy                           0.72      1091\n",
      "   macro avg       0.73      0.73      0.72      1091\n",
      "weighted avg       0.74      0.72      0.72      1091\n",
      "\n"
     ]
    }
   ],
   "source": [
    "# evaluate the performance\n",
    "\n",
    "\n",
    "predict_LR_re = model_retrain.predict(features_test)\n",
    "\n",
    "\n",
    "print(confusion_matrix(target_test, predict_LR_re))\n",
    "print(classification_report(target_test, predict_LR_re, target_names=['normal', 'high']))"
   ]
  },
  {
   "cell_type": "code",
   "execution_count": 23,
   "id": "c493bcc5",
   "metadata": {},
   "outputs": [
    {
     "name": "stdout",
     "output_type": "stream",
     "text": [
      "0.721899315291487\n"
     ]
    }
   ],
   "source": [
    "y_true = target_test\n",
    "y_pred = model_retrain.predict(features_test) \n",
    "\n",
    "print(f1_score(y_true, y_pred, average='macro'))"
   ]
  },
  {
   "cell_type": "code",
   "execution_count": 24,
   "id": "1deeff0f",
   "metadata": {},
   "outputs": [
    {
     "name": "stdout",
     "output_type": "stream",
     "text": [
      "<sklearn.metrics._plot.confusion_matrix.ConfusionMatrixDisplay object at 0x7f86e2674070>\n",
      "accuracy: 0.72\n",
      "precision: 0.73\n",
      "recall: 0.73\n",
      "fscore: 0.72\n"
     ]
    },
    {
     "data": {
      "image/png": "[encoded data removed]",
      "text/plain": [
       "<Figure size 432x288 with 2 Axes>"
      ]
     },
     "metadata": {
      "needs_background": "light"
     },
     "output_type": "display_data"
    }
   ],
   "source": [
    "model_metrics(predict_LR_re, target_test)"
   ]
  },
  {
   "cell_type": "markdown",
   "id": "c2be5555",
   "metadata": {},
   "source": [
    "### 第四題：mini-batches\n",
    "\n",
    "* 這邊我的 batch size 為 32，進行迭代 10 次，在每個 epoch 中，將數據集分成小批次，使用每個小批次的數據更新模型。最後使用 f-score 評估模型。選用 macro f-score 之原因如前所述。"
   ]
  },
  {
   "cell_type": "code",
   "execution_count": 33,
   "id": "521733f7",
   "metadata": {},
   "outputs": [],
   "source": [
    "\n",
    "# Initialize logistic regression model\n",
    "model_mini = SGDClassifier(penalty='l2', loss='log_loss', alpha = 0.0005, shuffle=True, random_state = 413)\n",
    "\n",
    "# Set parameters\n",
    "batch_size = 32\n",
    "num_epochs = 10\n",
    "\n",
    "# Train\n",
    "num_samples = features_train.shape[0]\n",
    "num_batches = num_samples // batch_size\n",
    "f_score_ma = []\n",
    "\n",
    "for i in range(num_epochs):\n",
    "    for j in range(num_batches):\n",
    "        X_batch = features_train[j*batch_size:(j+1)*batch_size]\n",
    "        y_batch = target_train[j*batch_size:(j+1)*batch_size]\n",
    "        model_mini.partial_fit(X_batch, y_batch, classes=[0, 1])\n",
    "        \n",
    "    # Evaluate\n",
    "    y_pred = model_mini.predict(features_test)\n",
    "    score = f1_score(target_test, y_pred, average='macro')\n",
    "    f_score_ma.append(score)\n"
   ]
  },
  {
   "cell_type": "markdown",
   "id": "faa51d6e",
   "metadata": {},
   "source": [
    "* 10 次 f-score 成績"
   ]
  },
  {
   "cell_type": "code",
   "execution_count": 34,
   "id": "a70aba32",
   "metadata": {
    "scrolled": true
   },
   "outputs": [
    {
     "data": {
      "text/plain": [
       "[0.7211184256600602,\n",
       " 0.7156135323583546,\n",
       " 0.7270757930593996,\n",
       " 0.7311855213244939,\n",
       " 0.7322704130222355,\n",
       " 0.7322704130222355,\n",
       " 0.732965926994116,\n",
       " 0.7318870046109021,\n",
       " 0.7348939708425339,\n",
       " 0.7381199477567157]"
      ]
     },
     "execution_count": 34,
     "metadata": {},
     "output_type": "execute_result"
    }
   ],
   "source": [
    "f_score_ma"
   ]
  },
  {
   "cell_type": "markdown",
   "id": "8c47981e",
   "metadata": {},
   "source": [
    "* 10 次 f-score 的平均"
   ]
  },
  {
   "cell_type": "code",
   "execution_count": 35,
   "id": "c252465d",
   "metadata": {},
   "outputs": [
    {
     "data": {
      "text/plain": [
       "0.7297400948651047"
      ]
     },
     "execution_count": 35,
     "metadata": {},
     "output_type": "execute_result"
    }
   ],
   "source": [
    "mean(f_score_ma)"
   ]
  },
  {
   "cell_type": "markdown",
   "id": "e827c0ed",
   "metadata": {},
   "source": [
    "* 這裡發現做越多次平均下來的分數較前面又低了一些，但我想，這樣的結果應該是表示模型呈現較穩定的狀態，也不會太過擬合。"
   ]
  },
  {
   "cell_type": "markdown",
   "id": "ed0053cb",
   "metadata": {},
   "source": [
    "### 第五題：Plot out f-scores of the models trained with different learning rates"
   ]
  },
  {
   "cell_type": "code",
   "execution_count": 32,
   "id": "8f2d2b90",
   "metadata": {
    "scrolled": true
   },
   "outputs": [
    {
     "data": {
      "image/png": "[encoded data removed]",
      "text/plain": [
       "<Figure size 432x288 with 1 Axes>"
      ]
     },
     "metadata": {
      "needs_background": "light"
     },
     "output_type": "display_data"
    }
   ],
   "source": [
    "\n",
    "# set 0.1 to 3.0 learning rate\n",
    "learning_rates = np.linspace(0.1, 3.0, num=30)\n",
    "\n",
    "# train the model and calculate f-score (macro)\n",
    "\n",
    "f1_scores = []\n",
    "for lr in learning_rates:\n",
    "    lr_model = SGDClassifier(penalty='l2', loss = 'log_loss', max_iter=1000, learning_rate='constant', eta0=lr, random_state = 413)\n",
    "    lr_model.fit(features_train, target_train)\n",
    "    y_pred = lr_model.predict(features_test)\n",
    "    score = f1_score(target_test, y_pred, average='macro')\n",
    "    f1_scores.append(score)\n",
    "\n",
    "# plot f-score\n",
    "\n",
    "plt.plot(learning_rates, f1_scores, 'o-')\n",
    "plt.xlabel('Learning Rate')\n",
    "plt.ylabel('F1 Score')\n",
    "plt.title('Learning Rate vs. F1 Score')\n",
    "plt.show()\n"
   ]
  },
  {
   "cell_type": "markdown",
   "id": "6d47f83c",
   "metadata": {},
   "source": [
    "* learning rate 約在 0.6 之前 f-score 較為穩定，之後不斷起伏，在 1.7 左右達到最高峰，隨後快速下降，繼續起起伏伏。因此，從這次實驗與這張圖所表現，我偏向將 learning rate 控制在 1 以前，畢竟在 1 以前可能不會有突然的高峰，但成績都不低，也較為穩定。"
   ]
  }
 ],
 "metadata": {
  "kernelspec": {
   "display_name": "Python 3",
   "language": "python",
   "name": "python3"
  },
  "language_info": {
   "codemirror_mode": {
    "name": "ipython",
    "version": 3
   },
   "file_extension": ".py",
   "mimetype": "text/x-python",
   "name": "python",
   "nbconvert_exporter": "python",
   "pygments_lexer": "ipython3",
   "version": "3.8.2"
  }
 },
 "nbformat": 4,
 "nbformat_minor": 5
}
