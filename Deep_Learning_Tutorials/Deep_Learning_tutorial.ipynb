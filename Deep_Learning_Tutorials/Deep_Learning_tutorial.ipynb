{
 "cells": [
  {
   "cell_type": "markdown",
   "id": "033fdac9",
   "metadata": {},
   "source": [
    "Computational Linguistics &emsp;&emsp;&emsp;&emsp;&emsp;&emsp;&emsp;&emsp;&emsp;&emsp;&emsp;&emsp;&emsp;&emsp;&emsp;&emsp;&emsp;&emsp;&emsp;&emsp;&emsp;&emsp;&emsp;&emsp; <br>Biao Yun\n",
    "\n",
    "<center> \n",
    "\n",
    "# Deep Learning\n",
    "### 2023.04.15\n",
    "\n",
    "</center>"
   ]
  },
  {
   "cell_type": "markdown",
   "id": "83c7887c",
   "metadata": {},
   "source": [
    "#### 引入所需 packages"
   ]
  },
  {
   "cell_type": "code",
   "execution_count": 13,
   "id": "2185a35a",
   "metadata": {},
   "outputs": [],
   "source": [
    "from tensorflow.keras.preprocessing import text_dataset_from_directory\n",
    "from tensorflow.strings import regex_replace\n",
    "from tensorflow.keras.models import Sequential\n",
    "from tensorflow.keras import Input\n",
    "from tensorflow.keras.layers.experimental.preprocessing import TextVectorization\n",
    "from tensorflow.keras.layers import SimpleRNN\n",
    "from tensorflow.keras.layers import Dense\n",
    "from tensorflow.keras.layers import GRU\n",
    "from tensorflow.keras.layers import Embedding\n",
    "import numpy as np\n",
    "import matplotlib.pyplot as plt\n",
    "from tensorflow.keras.layers import LSTM, Bidirectional"
   ]
  },
  {
   "cell_type": "markdown",
   "id": "d3320654",
   "metadata": {},
   "source": [
    "## (1) Check how to implement a RNN-GRU model. (30%)\n",
    "\n",
    "* 此次任務使用 IMDB 影評資料，區分文本為正面情緒還是負面情緒\n",
    "* 使用 RNN-GRU 模型\n",
    "* RNN-GRU 顧名思義是 Recurrent Neural Network (RNN) 的一種，是由 Gated Recurrent Unit (GRU) 組成的神經網路。與 LSTM 相比，GRU 的參數較少，因此在訓練過程中需要的時間和資源也相對較少。GRU 只有兩個門：重置門（reset gate）和更新門 (update gate)。重置門決定如何將新輸入組合到先前的記憶中，更新門決定保留多少先前的狀態，即 GRU 中的更新門就是 LSTM 中的輸入門和遺忘門。RNN-GRU 能在自然語言處理的序列任務中表現不錯，例如情感分類和機器翻譯等任務。"
   ]
  },
  {
   "cell_type": "markdown",
   "id": "7557ebad",
   "metadata": {},
   "source": [
    "#### 讀取資料\n",
    "\n",
    "* 資料及本身已經分好 training set and test set\n",
    "* 分為 positive or negative 兩種情緒\n",
    "* 去除所有 br tag"
   ]
  },
  {
   "cell_type": "code",
   "execution_count": 2,
   "id": "87c11a05",
   "metadata": {
    "scrolled": true
   },
   "outputs": [
    {
     "name": "stdout",
     "output_type": "stream",
     "text": [
      "Found 25000 files belonging to 2 classes.\n",
      "Found 25000 files belonging to 2 classes.\n"
     ]
    }
   ],
   "source": [
    "\n",
    "# preprocess the dataset: remove all the <br /> tag\n",
    "\n",
    "def prepareData(dir):\n",
    "  data = text_dataset_from_directory(dir) # load in dataset\n",
    "  return data.map(\n",
    "    lambda text, label: (regex_replace(text, '<br />', ' '), label),\n",
    "  )\n",
    "\n",
    "\n",
    "# load in dataset\n",
    "train_data = prepareData(\"/Users/biaoyun/Documents/111 Spring Semester Gtaduated Institute/Data/aclImdb/train\")\n",
    "test_data = prepareData(\"/Users/biaoyun/Documents/111 Spring Semester Gtaduated Institute/Data/aclImdb/test\")"
   ]
  },
  {
   "cell_type": "markdown",
   "id": "60452565",
   "metadata": {},
   "source": [
    "#### 看看 training set 內容"
   ]
  },
  {
   "cell_type": "code",
   "execution_count": 3,
   "id": "ba0531e0",
   "metadata": {
    "scrolled": true
   },
   "outputs": [
    {
     "name": "stdout",
     "output_type": "stream",
     "text": [
      "b\"As you may have gathered from the title, I wholeheartedly believe this movie to be the worst zombie movie of all time. The acting, camera-work, writing, special effects and anything else remotely related to this movie sucked. People have argued that while this movie is terribly-acted and terribly-produced but it comes through with a witty intelligent script. Wow. The plot has more holes than I or anyone else could possibly count. For starters, why would the government tell everyone to go back to work when it's not safe? I know the government's supposed to be evil but they don't gain anything by killing the entire population of the country. There wouldn't be anyone to govern! Another thing that I was wondering about, even if the government told everyone to go to work, why would people go if the streets were swarming with zombies? Were the zombies going to hide in the bushes and ambush the unsuspecting people in order to aid the government in their plot to kill everyone on the planet? And how about the ending? That stupid Torch guy sacrifices his life in order to get a few close up shots of the zombies. He probably forgot that every camera made in the last 35 years has a zoom feature. And another thing, why does he say Hindenburg before he dies. The Hindenburg was a rare event seen by a very few people. The zombie menace will been seen by everyone in the country, possibly the world. He doesn't think anyone else will get a few snapshots? They also managed to ruin the only semi-interesting scene in the film when the soldier is watching the exotic dancer. Why did the zombie hide behind a curtain for five minutes before attacking the girl? Especially when the zombie could have come through the DOOR. It's probably just something an unintelligent zombie movie fan such as myself wouldn't understand. Every day I pray that God with increase my brain capacity long enough for me to figure out all the subtle nuances in Feeding the Masses.  Anywho, I think it's interesting that this is the first movie that gave me the desire to physically hurt the people involved in the production. Hey Trent Haaga, I'm calling you out!\"\n",
      "0\n",
      "b\"This film is so bad I can't believe it was actually shot. People who voted 10 or 9, 8 and even 7, are you insane? Did we really watch the same movie? Or the same sh** should I say. Everything is bad in this film. The story (is there a story?) is going nowhere, completely incoherent, the acting (some dialogs are simply just ridiculous), the music score (what the **** is that?), the editing, and especially the artistic direction, a pure disaster. Reminds me the old Macist movies... To give you an example of the amateurism of the production, the mermaid's costume is a sleeping bag with spangles sticked on it. I'm not joking, that's exactly what it is.  Another example of the enormous mistakes we find here: you see in a scene an extra, a fat woman of about 200 pounds, who's talking on her cell phone. The next shot, which is in a complete different location, you can see this same woman, still talking on her cell phone (!) Yes, it goes that far.   A big, huge, waste of money. Useless.\"\n",
      "0\n",
      "b\"I'll be honest with yall, I was a junior in high school when this sitcom first aired on ABC I didn't think I would like it at all. But with John Ritter in it i felt that it had a little potential in it, plus their was something else with it I liked. The acting was great, not a lot of horrible 2nd rated comedy lines, John Ritter always brings his A game when it comes to comedy . This was a great show to watch, and I'll tell you why it was a great show. My father who never watches sitcoms at all, he just watches movies, sports, and law & order, he actually sat down with my 3 brothers and 2 sisters, my mother, and myself, and watched the show I think because John Ritter was in it. I honestly think this show would still be running if John Ritter God rest his soul i wish he hadn't passed away.\"\n",
      "1\n",
      "b'The title alone (along with the poster) is enough to give away \"The Projected Man\" as an obvious rip-off of \"The Fly\". And Bryant Haliday, while much better than the typical IMDb review would have you think, is nobody\\'s idea of an acceptable stand-in for Vincent Price. Although, come to think of it, who would be, unless Micheal Gough was available?? Still, if you are in the mood to watch a British \"Hammer\" style movie with a science fiction theme about a teleportation experiment gone horribly wrong...well, you still might want to give \"The Projected Man\" a pass and rummage around in the \\'remaindered\\' bin at your local Wal-Mart for another teleporter-accident movie. Because this one just isn\\'t all that good.  Haliday caught a lot of good natured ribbing from the MST3K crew for his part in this movie and in \"Devil Doll\", but he is actually the best thing in TPM. Maybe he can\\'t carry the movie, but he gets practically no help here from the screenplay. The script bogs down any forward momentum the plot may have in a mire of nonsense about funding and university politics and a guy named Lembach and some sinister cabal who want the teleportation machine to fail so they can steal its secrets...or something. So all the dramatic sequences in the first half of movie involve either phone calls or unconvincing special effects with transparent espresso machines and teleporting rats. Then when poor Haliday gets mutilated by his machine, he has to spend the last part of the film wearing a diaper over half his face and rubber cement over the rest while he electrocutes various Londoners who chance across his path. Tom Cruise and Eric Roberts using bullhorns couldn\\'t have made this screenplay work.   Meanwhile all the other actors diligently try to inject life and interest into their roles for this turgid little project, but the screenplay just swallows their efforts whole. The corrupt project administrator frets and fumes and hisses into the phone to his blackmailers, all the while failing to notice that he looks like a werewolf outfitted in a tweed suit and a Tattersall vest. Haliday\\'s research assistant and ex-girlfriend have the least convincing romance in the history of British horror cinema. His secretary is forced to parade around in her \"smalls\". None of it really works or gels into a real movie. And it all just kind of stops dead, leaving the viewer going, \"Eh? excuse me, wasn\\'t there supposed to be an ENDING here??\"  Still, for all its problems, I can easily name a dozen horror movies from the same period that were as bad or worse, and so could anyone else who follows movies (or who has ever browsed the IMDb \"Bottom 100\"). I wouldn\\'t actually pay money to own \"Projected Man\", but if it were included in some compilation along with a dozen other movies in a DVD collection, I\\'d probably feel OK about having it. It\\'s a harmless diversion, perfect for a horror movie film festival, to watched with friends while consuming many beers and snacks on a Saturday evening.'\n",
      "0\n"
     ]
    }
   ],
   "source": [
    "# take a look at the training set\n",
    "\n",
    "for text_batch, label_batch in train_data.take(4):\n",
    "  print(text_batch.numpy()[0])\n",
    "  print(label_batch.numpy()[0]) # 0 = negative, 1 = positive"
   ]
  },
  {
   "cell_type": "markdown",
   "id": "f804274d",
   "metadata": {},
   "source": [
    "#### 設定一些參數\n",
    "\n",
    "* 將文本轉換成數值序列，以便於進行訓練和預測。\n",
    "* 使用了 TensorFlow 的 TextVectorization，設定了 max_tokens 和 output_sequence_length 參數，這兩個參數用來限制輸入文本的長度，max_tokens 以外的都會被視為 OOV。\n",
    "* 接下來，只抓取 train_data 中的 text 欄位資料，將其轉換為數值序列"
   ]
  },
  {
   "cell_type": "code",
   "execution_count": 4,
   "id": "5721dfce",
   "metadata": {
    "scrolled": false
   },
   "outputs": [],
   "source": [
    "\n",
    "max_tokens = 1000\n",
    "max_len = 100\n",
    "vectorize_layer = TextVectorization(\n",
    "  max_tokens=max_tokens,\n",
    "  output_mode=\"int\",\n",
    "  output_sequence_length=max_len,\n",
    ")\n",
    "\n",
    "train_texts = train_data.map(lambda text, label: text) \n",
    "vectorize_layer.adapt(train_texts)\n"
   ]
  },
  {
   "cell_type": "markdown",
   "id": "0c8455d3",
   "metadata": {},
   "source": [
    "#### 建構 RNN-GRU 模型\n",
    "\n",
    "* 把 RNN 模型改為 RNN-GRU 的方式其實就是把 add(SimpleRNN(64)) 這個 layer 改成 add(GRU(64))\n",
    "* 其中的 ReLu 和 Sigmoid 層是將最後 GRU layer 的輸出傳遞到 Dense layer 進行分類任務\n",
    "* 其中 ReLu 層將對輸入資料進行線性變換，應用 ReLU 函數增加模型的非線性能力（結果介於 -1 到 1 之間）。\n",
    "* Sigmoid 層是用來將結果壓縮在 0 到 1 之間，以便進行二元分類。\n",
    "* 最後使用 binary_crossentropy loss function 和 accuracy 驗證"
   ]
  },
  {
   "cell_type": "code",
   "execution_count": 5,
   "id": "d64d5068",
   "metadata": {},
   "outputs": [
    {
     "name": "stdout",
     "output_type": "stream",
     "text": [
      "WARNING:tensorflow:Please add `keras.layers.InputLayer` instead of `keras.Input` to Sequential model. `keras.Input` is intended to be used by Functional model.\n"
     ]
    }
   ],
   "source": [
    "gru_model = Sequential(name=\"RNN-GRU\")\n",
    "gru_model.add(Input(shape=(1,), dtype=\"string\"))\n",
    "gru_model.add(vectorize_layer)\n",
    "gru_model.add(Embedding(max_tokens + 1, 128))\n",
    "gru_model.add(GRU(64))\n",
    "gru_model.add(Dense(64, activation=\"relu\"))\n",
    "gru_model.add(Dense(1, activation=\"sigmoid\"))\n",
    "gru_model.compile(\n",
    "  optimizer='adam',\n",
    "  loss='binary_crossentropy',\n",
    "  metrics=['accuracy'],\n",
    ")"
   ]
  },
  {
   "cell_type": "markdown",
   "id": "c3038b3d",
   "metadata": {},
   "source": [
    "#### 印出模型 summary"
   ]
  },
  {
   "cell_type": "code",
   "execution_count": 6,
   "id": "efbd52c8",
   "metadata": {
    "scrolled": true
   },
   "outputs": [
    {
     "name": "stdout",
     "output_type": "stream",
     "text": [
      "Model: \"RNN-GRU\"\n",
      "_________________________________________________________________\n",
      "Layer (type)                 Output Shape              Param #   \n",
      "=================================================================\n",
      "text_vectorization (TextVect (None, 100)               0         \n",
      "_________________________________________________________________\n",
      "embedding (Embedding)        (None, 100, 128)          128128    \n",
      "_________________________________________________________________\n",
      "gru (GRU)                    (None, 64)                37248     \n",
      "_________________________________________________________________\n",
      "dense (Dense)                (None, 64)                4160      \n",
      "_________________________________________________________________\n",
      "dense_1 (Dense)              (None, 1)                 65        \n",
      "=================================================================\n",
      "Total params: 169,601\n",
      "Trainable params: 169,601\n",
      "Non-trainable params: 0\n",
      "_________________________________________________________________\n",
      "None\n"
     ]
    }
   ],
   "source": [
    "print(gru_model.summary())"
   ]
  },
  {
   "cell_type": "markdown",
   "id": "2d455d9c",
   "metadata": {},
   "source": [
    "#### 開始進行訓練\n",
    "\n",
    "* 設定訓練 50 個 epochs\n",
    "* 將訓練過程記錄為 gru_history"
   ]
  },
  {
   "cell_type": "code",
   "execution_count": 7,
   "id": "d3515ff8",
   "metadata": {
    "scrolled": true
   },
   "outputs": [
    {
     "name": "stdout",
     "output_type": "stream",
     "text": [
      "Epoch 1/50\n",
      "782/782 [==============================] - 42s 51ms/step - loss: 0.5647 - accuracy: 0.6921\n",
      "Epoch 2/50\n",
      "782/782 [==============================] - 42s 54ms/step - loss: 0.4233 - accuracy: 0.8046\n",
      "Epoch 3/50\n",
      "782/782 [==============================] - 47s 61ms/step - loss: 0.3891 - accuracy: 0.8248\n",
      "Epoch 4/50\n",
      "782/782 [==============================] - 46s 58ms/step - loss: 0.3680 - accuracy: 0.8328\n",
      "Epoch 5/50\n",
      "782/782 [==============================] - 50s 64ms/step - loss: 0.3477 - accuracy: 0.8429\n",
      "Epoch 6/50\n",
      "782/782 [==============================] - 46s 58ms/step - loss: 0.3284 - accuracy: 0.8514\n",
      "Epoch 7/50\n",
      "782/782 [==============================] - 49s 62ms/step - loss: 0.3073 - accuracy: 0.8614\n",
      "Epoch 8/50\n",
      "782/782 [==============================] - 47s 60ms/step - loss: 0.2873 - accuracy: 0.8703\n",
      "Epoch 9/50\n",
      "782/782 [==============================] - 46s 59ms/step - loss: 0.2703 - accuracy: 0.8789\n",
      "Epoch 10/50\n",
      "782/782 [==============================] - 46s 59ms/step - loss: 0.2484 - accuracy: 0.8886\n",
      "Epoch 11/50\n",
      "782/782 [==============================] - 45s 57ms/step - loss: 0.2303 - accuracy: 0.8973\n",
      "Epoch 12/50\n",
      "782/782 [==============================] - 46s 59ms/step - loss: 0.2125 - accuracy: 0.9045\n",
      "Epoch 13/50\n",
      "782/782 [==============================] - 46s 58ms/step - loss: 0.1975 - accuracy: 0.9126\n",
      "Epoch 14/50\n",
      "782/782 [==============================] - 44s 57ms/step - loss: 0.1763 - accuracy: 0.9230\n",
      "Epoch 15/50\n",
      "782/782 [==============================] - 45s 57ms/step - loss: 0.1628 - accuracy: 0.9304\n",
      "Epoch 16/50\n",
      "782/782 [==============================] - 44s 57ms/step - loss: 0.1454 - accuracy: 0.9374\n",
      "Epoch 17/50\n",
      "782/782 [==============================] - 44s 56ms/step - loss: 0.1359 - accuracy: 0.9426\n",
      "Epoch 18/50\n",
      "782/782 [==============================] - 44s 56ms/step - loss: 0.1184 - accuracy: 0.9519\n",
      "Epoch 19/50\n",
      "782/782 [==============================] - 44s 56ms/step - loss: 0.1102 - accuracy: 0.9537\n",
      "Epoch 20/50\n",
      "782/782 [==============================] - 44s 57ms/step - loss: 0.0926 - accuracy: 0.9626\n",
      "Epoch 21/50\n",
      "782/782 [==============================] - 45s 57ms/step - loss: 0.0874 - accuracy: 0.9667\n",
      "Epoch 22/50\n",
      "782/782 [==============================] - 40s 51ms/step - loss: 0.0840 - accuracy: 0.9681\n",
      "Epoch 23/50\n",
      "782/782 [==============================] - 44s 56ms/step - loss: 0.0771 - accuracy: 0.9714\n",
      "Epoch 24/50\n",
      "782/782 [==============================] - 44s 56ms/step - loss: 0.0563 - accuracy: 0.9798\n",
      "Epoch 25/50\n",
      "782/782 [==============================] - 44s 57ms/step - loss: 0.0645 - accuracy: 0.9766\n",
      "Epoch 26/50\n",
      "782/782 [==============================] - 44s 56ms/step - loss: 0.0472 - accuracy: 0.9840\n",
      "Epoch 27/50\n",
      "782/782 [==============================] - 44s 57ms/step - loss: 0.0365 - accuracy: 0.9880\n",
      "Epoch 28/50\n",
      "782/782 [==============================] - 44s 56ms/step - loss: 0.0462 - accuracy: 0.9843\n",
      "Epoch 29/50\n",
      "782/782 [==============================] - 44s 56ms/step - loss: 0.0457 - accuracy: 0.9855\n",
      "Epoch 30/50\n",
      "782/782 [==============================] - 44s 57ms/step - loss: 0.0357 - accuracy: 0.9884\n",
      "Epoch 31/50\n",
      "782/782 [==============================] - 44s 56ms/step - loss: 0.0378 - accuracy: 0.9872\n",
      "Epoch 32/50\n",
      "782/782 [==============================] - 47s 60ms/step - loss: 0.0310 - accuracy: 0.9907\n",
      "Epoch 33/50\n",
      "782/782 [==============================] - 45s 58ms/step - loss: 0.0350 - accuracy: 0.9894\n",
      "Epoch 34/50\n",
      "782/782 [==============================] - 49s 63ms/step - loss: 0.0237 - accuracy: 0.9931\n",
      "Epoch 35/50\n",
      "782/782 [==============================] - 47s 60ms/step - loss: 0.0287 - accuracy: 0.9914\n",
      "Epoch 36/50\n",
      "782/782 [==============================] - 44s 56ms/step - loss: 0.0315 - accuracy: 0.9898\n",
      "Epoch 37/50\n",
      "782/782 [==============================] - 44s 56ms/step - loss: 0.0230 - accuracy: 0.9928\n",
      "Epoch 38/50\n",
      "782/782 [==============================] - 44s 56ms/step - loss: 0.0211 - accuracy: 0.9936\n",
      "Epoch 39/50\n",
      "782/782 [==============================] - 44s 57ms/step - loss: 0.0242 - accuracy: 0.9923\n",
      "Epoch 40/50\n",
      "782/782 [==============================] - 44s 56ms/step - loss: 0.0221 - accuracy: 0.9932\n",
      "Epoch 41/50\n",
      "782/782 [==============================] - 44s 56ms/step - loss: 0.0295 - accuracy: 0.9904\n",
      "Epoch 42/50\n",
      "782/782 [==============================] - 44s 56ms/step - loss: 0.0200 - accuracy: 0.9939\n",
      "Epoch 43/50\n",
      "782/782 [==============================] - 44s 56ms/step - loss: 0.0119 - accuracy: 0.9966\n",
      "Epoch 44/50\n",
      "782/782 [==============================] - 44s 56ms/step - loss: 0.0191 - accuracy: 0.9948\n",
      "Epoch 45/50\n",
      "782/782 [==============================] - 44s 57ms/step - loss: 0.0236 - accuracy: 0.9927\n",
      "Epoch 46/50\n",
      "782/782 [==============================] - 44s 56ms/step - loss: 0.0266 - accuracy: 0.9909\n",
      "Epoch 47/50\n",
      "782/782 [==============================] - 44s 56ms/step - loss: 0.0155 - accuracy: 0.9953\n",
      "Epoch 48/50\n",
      "782/782 [==============================] - 43s 55ms/step - loss: 0.0172 - accuracy: 0.9944\n",
      "Epoch 49/50\n",
      "782/782 [==============================] - 43s 55ms/step - loss: 0.0210 - accuracy: 0.9934\n",
      "Epoch 50/50\n",
      "782/782 [==============================] - 43s 56ms/step - loss: 0.0167 - accuracy: 0.9949\n"
     ]
    }
   ],
   "source": [
    "gru_history = gru_model.fit(train_data, epochs= 50)"
   ]
  },
  {
   "cell_type": "markdown",
   "id": "d27a5cbe",
   "metadata": {},
   "source": [
    "## (2) Evaluate the accuracy of your RNN-GRU model. (20%)"
   ]
  },
  {
   "cell_type": "markdown",
   "id": "114dfd1a",
   "metadata": {},
   "source": [
    "#### 讓訓練好的模型進行預測\n",
    "\n",
    "* 當文本愈 positive，預測出來的分數就愈接近 1，反之則愈接近 0"
   ]
  },
  {
   "cell_type": "code",
   "execution_count": 8,
   "id": "8e046712",
   "metadata": {},
   "outputs": [
    {
     "name": "stdout",
     "output_type": "stream",
     "text": [
      "[[1.]]\n",
      "[[4.4545911e-10]]\n"
     ]
    }
   ],
   "source": [
    "# positive: high score\n",
    "print(gru_model.predict([\n",
    "  \"i loved it! highly recommend it to anyone and everyone looking for a great movie to watch.\",\n",
    "]))\n",
    "\n",
    "# negative: low score\n",
    "print(gru_model.predict([\n",
    "  \"this was awful! i hated it so much, nobody should watch this. the acting was terrible, the music was terrible, overall it was just bad.\",\n",
    "]))"
   ]
  },
  {
   "cell_type": "markdown",
   "id": "676e118c",
   "metadata": {},
   "source": [
    "#### 使用 accuracy 來評估該模型\n",
    "\n",
    "* 0.7688 的 accuracy 表示該模型正確預測了測試集中 76.88% 的 movie review 情緒。也就是說，如果我們要使用這個模型來預測全新的資料（新評論的情緒），我們可以預期它大約 77% 能預測正確。"
   ]
  },
  {
   "cell_type": "code",
   "execution_count": 9,
   "id": "c8bdcf98",
   "metadata": {},
   "outputs": [
    {
     "name": "stdout",
     "output_type": "stream",
     "text": [
      "782/782 [==============================] - 12s 14ms/step - loss: 2.1046 - accuracy: 0.7688\n",
      "Test accuracy: 0.7688400149345398\n"
     ]
    }
   ],
   "source": [
    "loss, accuracy = gru_model.evaluate(test_data)\n",
    "print(f\"Test accuracy: {accuracy}\")"
   ]
  },
  {
   "cell_type": "markdown",
   "id": "f07488c1",
   "metadata": {},
   "source": [
    "#### 畫出模型訓練過程\n",
    "\n",
    "* 用前面訓練時紀錄的 gru_history 來繪圖"
   ]
  },
  {
   "cell_type": "code",
   "execution_count": 10,
   "id": "20e81d5b",
   "metadata": {},
   "outputs": [
    {
     "data": {
      "image/png": "[encoded data removed]",
      "text/plain": [
       "<Figure size 432x288 with 2 Axes>"
      ]
     },
     "metadata": {
      "needs_background": "light"
     },
     "output_type": "display_data"
    }
   ],
   "source": [
    "# Plot both the loss and accuracy\n",
    "fig, ax1 = plt.subplots()\n",
    "\n",
    "color = 'tab:red'\n",
    "ax1.set_xlabel('Epoch')\n",
    "ax1.set_ylabel('Loss', color=color)\n",
    "ax1.plot(gru_history.history['loss'], color=color)\n",
    "ax1.tick_params(axis='y', labelcolor=color)\n",
    "\n",
    "ax2 = ax1.twinx()\n",
    "\n",
    "color = 'tab:blue'\n",
    "ax2.set_ylabel('Accuracy', color=color)\n",
    "ax2.plot(gru_history.history['accuracy'], color=color)\n",
    "ax2.tick_params(axis='y', labelcolor=color)\n",
    "\n",
    "fig.tight_layout()\n",
    "plt.show()"
   ]
  },
  {
   "cell_type": "markdown",
   "id": "7ff15900",
   "metadata": {},
   "source": [
    "## (3) Build a Bidirectional LSTM model for classifying IMDB dataset. (30%)"
   ]
  },
  {
   "cell_type": "markdown",
   "id": "bc803e6a",
   "metadata": {},
   "source": [
    "#### 建構 BiLSTM 模型 \n",
    "\n",
    "* 因為前面資料都處理好了，這邊只需要從模型建構開始即可\n",
    "* 把 add(GRU(64)) 換成 add(Bidirectional(LSTM(64))) 就可以了\n",
    "* BiLSTM 是 LSTM 模型的一種變體，可以從兩個方向（由前往後和由後往前）處理資料，因此可以有效地從過去和未來的訊息中獲得上下文之間的關係。\n",
    "* RNN-GRU 也是一種循環神經網絡，是 RNN 的變體，目的於克服 RNN 中的梯度消失問題。如前所述，它僅用 2 個門來調節通過訊息，因此 GRU 比 LSTM 相對簡單，需要的計算資源也較少。"
   ]
  },
  {
   "cell_type": "code",
   "execution_count": 14,
   "id": "8f7e2fb5",
   "metadata": {},
   "outputs": [
    {
     "name": "stdout",
     "output_type": "stream",
     "text": [
      "WARNING:tensorflow:Please add `keras.layers.InputLayer` instead of `keras.Input` to Sequential model. `keras.Input` is intended to be used by Functional model.\n"
     ]
    }
   ],
   "source": [
    "biLstm_model = Sequential(name=\"BiLSTM\")\n",
    "biLstm_model.add(Input(shape=(1,), dtype=\"string\"))\n",
    "biLstm_model.add(vectorize_layer)\n",
    "biLstm_model.add(Embedding(max_tokens + 1, 128))\n",
    "biLstm_model.add(Bidirectional(LSTM(64)))\n",
    "biLstm_model.add(Dense(64, activation=\"relu\"))\n",
    "biLstm_model.add(Dense(1, activation=\"sigmoid\"))\n",
    "biLstm_model.compile(\n",
    "  optimizer='adam',\n",
    "  loss='binary_crossentropy',\n",
    "  metrics=['accuracy'],\n",
    ")"
   ]
  },
  {
   "cell_type": "markdown",
   "id": "a6058ba4",
   "metadata": {},
   "source": [
    "#### 印出 BiLSTM 模型 summary"
   ]
  },
  {
   "cell_type": "code",
   "execution_count": 15,
   "id": "3bb71a10",
   "metadata": {
    "scrolled": true
   },
   "outputs": [
    {
     "name": "stdout",
     "output_type": "stream",
     "text": [
      "Model: \"BiLSTM\"\n",
      "_________________________________________________________________\n",
      "Layer (type)                 Output Shape              Param #   \n",
      "=================================================================\n",
      "text_vectorization (TextVect (None, 100)               0         \n",
      "_________________________________________________________________\n",
      "embedding_3 (Embedding)      (None, 100, 128)          128128    \n",
      "_________________________________________________________________\n",
      "bidirectional (Bidirectional (None, 128)               98816     \n",
      "_________________________________________________________________\n",
      "dense_2 (Dense)              (None, 64)                8256      \n",
      "_________________________________________________________________\n",
      "dense_3 (Dense)              (None, 1)                 65        \n",
      "=================================================================\n",
      "Total params: 235,265\n",
      "Trainable params: 235,265\n",
      "Non-trainable params: 0\n",
      "_________________________________________________________________\n",
      "None\n"
     ]
    }
   ],
   "source": [
    "print(biLstm_model.summary())"
   ]
  },
  {
   "cell_type": "markdown",
   "id": "ec55bf85",
   "metadata": {},
   "source": [
    "#### 開始訓練"
   ]
  },
  {
   "cell_type": "code",
   "execution_count": 16,
   "id": "eb9122e6",
   "metadata": {
    "scrolled": true
   },
   "outputs": [
    {
     "name": "stdout",
     "output_type": "stream",
     "text": [
      "Epoch 1/50\n",
      "782/782 [==============================] - 59s 72ms/step - loss: 0.5087 - accuracy: 0.7447\n",
      "Epoch 2/50\n",
      "782/782 [==============================] - 69s 89ms/step - loss: 0.4266 - accuracy: 0.8031\n",
      "Epoch 3/50\n",
      "782/782 [==============================] - 69s 88ms/step - loss: 0.3928 - accuracy: 0.8218\n",
      "Epoch 4/50\n",
      "782/782 [==============================] - 67s 86ms/step - loss: 0.3663 - accuracy: 0.8360\n",
      "Epoch 5/50\n",
      "782/782 [==============================] - 68s 86ms/step - loss: 0.2998 - accuracy: 0.8705\n",
      "Epoch 7/50\n",
      "782/782 [==============================] - 68s 87ms/step - loss: 0.2725 - accuracy: 0.8834\n",
      "Epoch 8/50\n",
      "782/782 [==============================] - 67s 85ms/step - loss: 0.2536 - accuracy: 0.8910\n",
      "Epoch 9/50\n",
      "782/782 [==============================] - 66s 85ms/step - loss: 0.2243 - accuracy: 0.9046\n",
      "Epoch 10/50\n",
      "782/782 [==============================] - 66s 84ms/step - loss: 0.1750 - accuracy: 0.9282\n",
      "Epoch 12/50\n",
      "782/782 [==============================] - 65s 84ms/step - loss: 0.1544 - accuracy: 0.9366\n",
      "Epoch 13/50\n",
      "782/782 [==============================] - 63s 81ms/step - loss: 0.1476 - accuracy: 0.9408\n",
      "Epoch 14/50\n",
      "782/782 [==============================] - 62s 80ms/step - loss: 0.1302 - accuracy: 0.9481\n",
      "Epoch 15/50\n",
      "782/782 [==============================] - 66s 84ms/step - loss: 0.1118 - accuracy: 0.9569\n",
      "Epoch 16/50\n",
      "782/782 [==============================] - 66s 84ms/step - loss: 0.0983 - accuracy: 0.9630\n",
      "Epoch 17/50\n",
      "782/782 [==============================] - 66s 85ms/step - loss: 0.0857 - accuracy: 0.9679\n",
      "Epoch 18/50\n",
      "782/782 [==============================] - 66s 84ms/step - loss: 0.0790 - accuracy: 0.9714\n",
      "Epoch 19/50\n",
      "782/782 [==============================] - 66s 85ms/step - loss: 0.0731 - accuracy: 0.9736\n",
      "Epoch 20/50\n",
      "782/782 [==============================] - 66s 84ms/step - loss: 0.0517 - accuracy: 0.9819\n",
      "Epoch 23/50\n",
      "782/782 [==============================] - 67s 85ms/step - loss: 0.0423 - accuracy: 0.9865\n",
      "Epoch 24/50\n",
      "782/782 [==============================] - 66s 84ms/step - loss: 0.0344 - accuracy: 0.9888\n",
      "Epoch 25/50\n",
      "782/782 [==============================] - 66s 85ms/step - loss: 0.0478 - accuracy: 0.9848\n",
      "Epoch 26/50\n",
      "782/782 [==============================] - 66s 85ms/step - loss: 0.0345 - accuracy: 0.9880\n",
      "Epoch 30/50\n",
      "782/782 [==============================] - 66s 85ms/step - loss: 0.0299 - accuracy: 0.9908\n",
      "Epoch 31/50\n",
      "782/782 [==============================] - 66s 85ms/step - loss: 0.0275 - accuracy: 0.9915\n",
      "Epoch 32/50\n",
      "782/782 [==============================] - 66s 85ms/step - loss: 0.0269 - accuracy: 0.9918\n",
      "Epoch 33/50\n",
      "782/782 [==============================] - 66s 84ms/step - loss: 0.0250 - accuracy: 0.9908\n",
      "Epoch 36/50\n",
      "782/782 [==============================] - 67s 85ms/step - loss: 0.0176 - accuracy: 0.9948\n",
      "Epoch 37/50\n",
      "782/782 [==============================] - 66s 84ms/step - loss: 0.0171 - accuracy: 0.9944\n",
      "Epoch 38/50\n",
      "782/782 [==============================] - 63s 80ms/step - loss: 0.0217 - accuracy: 0.9924\n",
      "Epoch 42/50\n",
      "782/782 [==============================] - 66s 84ms/step - loss: 0.0142 - accuracy: 0.9950\n",
      "Epoch 43/50\n",
      "782/782 [==============================] - 69s 89ms/step - loss: 0.0084 - accuracy: 0.9973\n",
      "Epoch 44/50\n",
      "782/782 [==============================] - 65s 83ms/step - loss: 0.0191 - accuracy: 0.9933\n",
      "Epoch 45/50\n",
      "782/782 [==============================] - 68s 87ms/step - loss: 0.0196 - accuracy: 0.9936\n",
      "Epoch 46/50\n",
      "782/782 [==============================] - 65s 83ms/step - loss: 0.0185 - accuracy: 0.9942\n",
      "Epoch 47/50\n",
      "782/782 [==============================] - 65s 83ms/step - loss: 0.0130 - accuracy: 0.9954\n",
      "Epoch 49/50\n",
      "782/782 [==============================] - 65s 83ms/step - loss: 0.0241 - accuracy: 0.9928\n",
      "Epoch 50/50\n",
      "782/782 [==============================] - 65s 83ms/step - loss: 0.0187 - accuracy: 0.9938\n"
     ]
    }
   ],
   "source": [
    "biLstm_history = biLstm_model.fit(train_data, epochs= 50)"
   ]
  },
  {
   "cell_type": "markdown",
   "id": "0025dd3b",
   "metadata": {},
   "source": [
    "#### 為了和 BiRNN 結果進行比較，下一題才會把結果和 BiRNN 的結果一起印出"
   ]
  },
  {
   "cell_type": "markdown",
   "id": "7574fe2a",
   "metadata": {},
   "source": [
    "## (4) Compare whether a Bidirectional RNN model or a Bidirectional LSTM model perform better. Please provide some illustration. (20%)"
   ]
  },
  {
   "cell_type": "markdown",
   "id": "9e770ee0",
   "metadata": {},
   "source": [
    "#### 建構 BiRNN 模型\n",
    "\n",
    "* BiRNN 結合了前向和後向處理的神經網路架構。在標準 RNN 中，每個 time step 的輸出僅取決於該 step 的輸入和前一 time step 的隱藏狀態。但是，BiRNN 使用兩個獨立的隱藏狀態從兩方處理輸入序列，即一個隱藏狀態由前往後處理輸入序列，而另一個隱藏狀態由後往前處理輸入序列。\n",
    "* bidirectional 的方式在自然語言處理任務中特別有用，例如情感分析或機器翻譯，其中單詞的含義可能取決於其前後的單詞。\n",
    "* 在 BiRNN 中兩個獨立隱藏層的輸出被連接起來並傳遞到最終輸出層進行分類或回歸任務。"
   ]
  },
  {
   "cell_type": "code",
   "execution_count": 17,
   "id": "348cf07e",
   "metadata": {},
   "outputs": [
    {
     "name": "stdout",
     "output_type": "stream",
     "text": [
      "WARNING:tensorflow:Please add `keras.layers.InputLayer` instead of `keras.Input` to Sequential model. `keras.Input` is intended to be used by Functional model.\n"
     ]
    }
   ],
   "source": [
    "biRnn_model = Sequential(name=\"BiRNN\")\n",
    "biRnn_model.add(Input(shape=(1,), dtype=\"string\"))\n",
    "biRnn_model.add(vectorize_layer)\n",
    "biRnn_model.add(Embedding(max_tokens + 1, 128))\n",
    "biRnn_model.add(Bidirectional(SimpleRNN(64)))\n",
    "biRnn_model.add(Dense(64, activation=\"relu\"))\n",
    "biRnn_model.add(Dense(1, activation=\"sigmoid\"))\n",
    "biRnn_model.compile(\n",
    "  optimizer='adam',\n",
    "  loss='binary_crossentropy',\n",
    "  metrics=['accuracy'],\n",
    ")\n"
   ]
  },
  {
   "cell_type": "markdown",
   "id": "cd1bc46f",
   "metadata": {},
   "source": [
    "#### 印出 BiRNN 模型 summary"
   ]
  },
  {
   "cell_type": "code",
   "execution_count": 18,
   "id": "3643169e",
   "metadata": {
    "scrolled": true
   },
   "outputs": [
    {
     "name": "stdout",
     "output_type": "stream",
     "text": [
      "Model: \"BiRNN\"\n",
      "_________________________________________________________________\n",
      "Layer (type)                 Output Shape              Param #   \n",
      "=================================================================\n",
      "text_vectorization (TextVect (None, 100)               0         \n",
      "_________________________________________________________________\n",
      "embedding_4 (Embedding)      (None, 100, 128)          128128    \n",
      "_________________________________________________________________\n",
      "bidirectional_1 (Bidirection (None, 128)               24704     \n",
      "_________________________________________________________________\n",
      "dense_4 (Dense)              (None, 64)                8256      \n",
      "_________________________________________________________________\n",
      "dense_5 (Dense)              (None, 1)                 65        \n",
      "=================================================================\n",
      "Total params: 161,153\n",
      "Trainable params: 161,153\n",
      "Non-trainable params: 0\n",
      "_________________________________________________________________\n",
      "None\n"
     ]
    }
   ],
   "source": [
    "print(biRnn_model.summary())"
   ]
  },
  {
   "cell_type": "markdown",
   "id": "b5fefda5",
   "metadata": {},
   "source": [
    "#### 開始訓練"
   ]
  },
  {
   "cell_type": "code",
   "execution_count": 19,
   "id": "4c8521b4",
   "metadata": {
    "scrolled": true
   },
   "outputs": [
    {
     "name": "stdout",
     "output_type": "stream",
     "text": [
      "Epoch 1/50\n",
      "782/782 [==============================] - 32s 41ms/step - loss: 0.5262 - accuracy: 0.7439\n",
      "Epoch 6/50\n",
      "782/782 [==============================] - 32s 41ms/step - loss: 0.5248 - accuracy: 0.7432\n",
      "Epoch 7/50\n",
      "782/782 [==============================] - 30s 39ms/step - loss: 0.5959 - accuracy: 0.6825\n",
      "Epoch 8/50\n",
      "782/782 [==============================] - 34s 44ms/step - loss: 0.5929 - accuracy: 0.6788\n",
      "Epoch 9/50\n",
      "782/782 [==============================] - 34s 44ms/step - loss: 0.5667 - accuracy: 0.7052\n",
      "Epoch 10/50\n",
      "782/782 [==============================] - 31s 40ms/step - loss: 0.5559 - accuracy: 0.7137\n",
      "Epoch 11/50\n",
      "782/782 [==============================] - 34s 44ms/step - loss: 0.5304 - accuracy: 0.7372\n",
      "Epoch 12/50\n",
      "782/782 [==============================] - 34s 44ms/step - loss: 0.5192 - accuracy: 0.7516\n",
      "Epoch 13/50\n",
      "782/782 [==============================] - 34s 43ms/step - loss: 0.5025 - accuracy: 0.7660\n",
      "Epoch 14/50\n",
      "782/782 [==============================] - 34s 43ms/step - loss: 0.5169 - accuracy: 0.7496\n",
      "Epoch 15/50\n",
      "782/782 [==============================] - 34s 43ms/step - loss: 0.5184 - accuracy: 0.7466\n",
      "Epoch 16/50\n",
      "782/782 [==============================] - 33s 42ms/step - loss: 0.5132 - accuracy: 0.7498\n",
      "Epoch 17/50\n",
      "782/782 [==============================] - 34s 43ms/step - loss: 0.5112 - accuracy: 0.7527\n",
      "Epoch 18/50\n",
      "782/782 [==============================] - 34s 43ms/step - loss: 0.5032 - accuracy: 0.7565\n",
      "Epoch 19/50\n",
      "782/782 [==============================] - 32s 41ms/step - loss: 0.5000 - accuracy: 0.7525\n",
      "Epoch 20/50\n",
      "782/782 [==============================] - 33s 43ms/step - loss: 0.5132 - accuracy: 0.7443\n",
      "Epoch 21/50\n",
      "782/782 [==============================] - 34s 43ms/step - loss: 0.4947 - accuracy: 0.7588\n",
      "Epoch 22/50\n",
      "782/782 [==============================] - 34s 43ms/step - loss: 0.4913 - accuracy: 0.7576\n",
      "Epoch 23/50\n",
      "782/782 [==============================] - 32s 41ms/step - loss: 0.4860 - accuracy: 0.7634\n",
      "Epoch 24/50\n",
      "782/782 [==============================] - 33s 43ms/step - loss: 0.5026 - accuracy: 0.7532\n",
      "Epoch 25/50\n",
      "782/782 [==============================] - 33s 42ms/step - loss: 0.5195 - accuracy: 0.7426\n",
      "Epoch 26/50\n",
      "782/782 [==============================] - 34s 43ms/step - loss: 0.5107 - accuracy: 0.7501\n",
      "Epoch 27/50\n",
      "782/782 [==============================] - 33s 43ms/step - loss: 0.4816 - accuracy: 0.7710\n",
      "Epoch 28/50\n",
      "782/782 [==============================] - 33s 43ms/step - loss: 0.4936 - accuracy: 0.7627\n",
      "Epoch 29/50\n",
      "782/782 [==============================] - 34s 43ms/step - loss: 0.4696 - accuracy: 0.7759\n",
      "Epoch 30/50\n",
      "782/782 [==============================] - 33s 42ms/step - loss: 0.4879 - accuracy: 0.7607\n",
      "Epoch 31/50\n",
      "782/782 [==============================] - 33s 42ms/step - loss: 0.4737 - accuracy: 0.7733\n",
      "Epoch 32/50\n",
      "782/782 [==============================] - 34s 43ms/step - loss: 0.4762 - accuracy: 0.7715\n",
      "Epoch 33/50\n",
      "782/782 [==============================] - 32s 41ms/step - loss: 0.4988 - accuracy: 0.7560\n",
      "Epoch 34/50\n",
      "782/782 [==============================] - 34s 43ms/step - loss: 0.4862 - accuracy: 0.7635\n",
      "Epoch 35/50\n",
      "782/782 [==============================] - 32s 40ms/step - loss: 0.4660 - accuracy: 0.7774\n",
      "Epoch 36/50\n",
      "782/782 [==============================] - 30s 38ms/step - loss: 0.4452 - accuracy: 0.7922\n",
      "Epoch 37/50\n",
      "782/782 [==============================] - 29s 37ms/step - loss: 0.4429 - accuracy: 0.7950\n",
      "Epoch 38/50\n",
      "782/782 [==============================] - 31s 39ms/step - loss: 0.4978 - accuracy: 0.7560\n",
      "Epoch 39/50\n",
      "782/782 [==============================] - 31s 40ms/step - loss: 0.4589 - accuracy: 0.7828\n",
      "Epoch 40/50\n",
      "782/782 [==============================] - 32s 40ms/step - loss: 0.4556 - accuracy: 0.7889\n",
      "Epoch 41/50\n",
      "782/782 [==============================] - 32s 41ms/step - loss: 0.4668 - accuracy: 0.7776\n",
      "Epoch 42/50\n",
      "782/782 [==============================] - 32s 40ms/step - loss: 0.4940 - accuracy: 0.7576\n",
      "Epoch 43/50\n",
      "782/782 [==============================] - 32s 41ms/step - loss: 0.4918 - accuracy: 0.7600\n",
      "Epoch 44/50\n",
      "782/782 [==============================] - 30s 38ms/step - loss: 0.4653 - accuracy: 0.7764\n",
      "Epoch 45/50\n",
      "782/782 [==============================] - 31s 40ms/step - loss: 0.4625 - accuracy: 0.7799\n",
      "Epoch 46/50\n",
      "782/782 [==============================] - 31s 40ms/step - loss: 0.4727 - accuracy: 0.7696\n",
      "Epoch 47/50\n",
      "782/782 [==============================] - 32s 41ms/step - loss: 0.5380 - accuracy: 0.7260\n"
     ]
    }
   ],
   "source": [
    "biRnn_history = biRnn_model.fit(train_data, epochs= 50)"
   ]
  },
  {
   "cell_type": "markdown",
   "id": "229220b8",
   "metadata": {},
   "source": [
    "#### 讓 BiLSTM 模型預測"
   ]
  },
  {
   "cell_type": "code",
   "execution_count": 20,
   "id": "f63db7b8",
   "metadata": {},
   "outputs": [
    {
     "name": "stdout",
     "output_type": "stream",
     "text": [
      "[[1.]]\n",
      "[[5.3918366e-13]]\n"
     ]
    }
   ],
   "source": [
    "# positive: high score\n",
    "print(biLstm_model.predict([\n",
    "  \"i loved it! highly recommend it to anyone and everyone looking for a great movie to watch.\",\n",
    "]))\n",
    "\n",
    "# negative: low score\n",
    "print(biLstm_model.predict([\n",
    "  \"this was awful! i hated it so much, nobody should watch this. the acting was terrible, the music was terrible, overall it was just bad.\",\n",
    "]))"
   ]
  },
  {
   "cell_type": "markdown",
   "id": "346eebe9",
   "metadata": {},
   "source": [
    "#### 讓 BiRNN 模型預測"
   ]
  },
  {
   "cell_type": "code",
   "execution_count": 22,
   "id": "f9646232",
   "metadata": {},
   "outputs": [
    {
     "name": "stdout",
     "output_type": "stream",
     "text": [
      "[[0.8529196]]\n",
      "[[0.04306087]]\n"
     ]
    }
   ],
   "source": [
    "# positive: high score\n",
    "print(biRnn_model.predict([\n",
    "  \"i loved it! highly recommend it to anyone and everyone looking for a great movie to watch.\",\n",
    "]))\n",
    "\n",
    "# negative: low score\n",
    "print(biRnn_model.predict([\n",
    "  \"this was awful! i hated it so much, nobody should watch this. the acting was terrible, the music was terrible, overall it was just bad.\",\n",
    "]))"
   ]
  },
  {
   "cell_type": "markdown",
   "id": "124eb0cd",
   "metadata": {},
   "source": [
    "#### BiLSTM 的 accuracy"
   ]
  },
  {
   "cell_type": "code",
   "execution_count": 23,
   "id": "840f51a9",
   "metadata": {},
   "outputs": [
    {
     "name": "stdout",
     "output_type": "stream",
     "text": [
      "782/782 [==============================] - 15s 17ms/step - loss: 1.9973 - accuracy: 0.7435\n",
      "Test accuracy: 0.7434800267219543\n"
     ]
    }
   ],
   "source": [
    "loss, accuracy = biLstm_model.evaluate(test_data)\n",
    "print(f\"Test accuracy: {accuracy}\")"
   ]
  },
  {
   "cell_type": "markdown",
   "id": "7d01b7ae",
   "metadata": {},
   "source": [
    "#### BiRNN 的 accuracy"
   ]
  },
  {
   "cell_type": "code",
   "execution_count": 24,
   "id": "a335dbe6",
   "metadata": {},
   "outputs": [
    {
     "name": "stdout",
     "output_type": "stream",
     "text": [
      "782/782 [==============================] - 9s 11ms/step - loss: 0.7018 - accuracy: 0.6164\n",
      "Test accuracy: 0.6164399981498718\n"
     ]
    }
   ],
   "source": [
    "loss, accuracy = biRnn_model.evaluate(test_data)\n",
    "print(f\"Test accuracy: {accuracy}\")"
   ]
  },
  {
   "cell_type": "markdown",
   "id": "0d90d111",
   "metadata": {},
   "source": [
    "#### 畫出 BiLSTM 的訓練過程"
   ]
  },
  {
   "cell_type": "code",
   "execution_count": 25,
   "id": "0813078f",
   "metadata": {
    "scrolled": true
   },
   "outputs": [
    {
     "data": {
      "image/png": "[encoded data removed]",
      "text/plain": [
       "<Figure size 432x288 with 2 Axes>"
      ]
     },
     "metadata": {
      "needs_background": "light"
     },
     "output_type": "display_data"
    }
   ],
   "source": [
    "# Plot both the loss and accuracy\n",
    "fig, ax1 = plt.subplots()\n",
    "\n",
    "color = 'tab:red'\n",
    "ax1.set_xlabel('Epoch')\n",
    "ax1.set_ylabel('Loss', color=color)\n",
    "ax1.plot(biLstm_history.history['loss'], color=color)\n",
    "ax1.tick_params(axis='y', labelcolor=color)\n",
    "\n",
    "ax2 = ax1.twinx()\n",
    "\n",
    "color = 'tab:blue'\n",
    "ax2.set_ylabel('Accuracy', color=color)\n",
    "ax2.plot(biLstm_history.history['accuracy'], color=color)\n",
    "ax2.tick_params(axis='y', labelcolor=color)\n",
    "\n",
    "fig.tight_layout()\n",
    "plt.show()"
   ]
  },
  {
   "cell_type": "markdown",
   "id": "8450fbb3",
   "metadata": {},
   "source": [
    "#### 畫出 BiRNN 的訓練過程"
   ]
  },
  {
   "cell_type": "code",
   "execution_count": 26,
   "id": "ae726f85",
   "metadata": {
    "scrolled": true
   },
   "outputs": [
    {
     "data": {
      "image/png": "[encoded data removed]",
      "text/plain": [
       "<Figure size 432x288 with 2 Axes>"
      ]
     },
     "metadata": {
      "needs_background": "light"
     },
     "output_type": "display_data"
    }
   ],
   "source": [
    "# Plot both the loss and accuracy\n",
    "fig, ax1 = plt.subplots()\n",
    "\n",
    "color = 'tab:red'\n",
    "ax1.set_xlabel('Epoch')\n",
    "ax1.set_ylabel('Loss', color=color)\n",
    "ax1.plot(biRnn_history.history['loss'], color=color)\n",
    "ax1.tick_params(axis='y', labelcolor=color)\n",
    "\n",
    "ax2 = ax1.twinx()\n",
    "\n",
    "color = 'tab:blue'\n",
    "ax2.set_ylabel('Accuracy', color=color)\n",
    "ax2.plot(biRnn_history.history['accuracy'], color=color)\n",
    "ax2.tick_params(axis='y', labelcolor=color)\n",
    "\n",
    "fig.tight_layout()\n",
    "plt.show()"
   ]
  },
  {
   "cell_type": "markdown",
   "id": "283d455a",
   "metadata": {},
   "source": [
    "#### 把模型存起來"
   ]
  },
  {
   "cell_type": "code",
   "execution_count": 27,
   "id": "1f9048c8",
   "metadata": {},
   "outputs": [],
   "source": [
    "gru_model.save_weights('RNN-GRU')\n",
    "biLstm_model.save_weights('BiLSTM')\n",
    "biRnn_model.save_weights('BiRNN')"
   ]
  },
  {
   "cell_type": "markdown",
   "id": "fc547289",
   "metadata": {},
   "source": [
    "## Reflection\n",
    "\n",
    "可以發現在做 Deep Learning 時，模型架構的方式萬變不離其宗，基本上如果你想用什麼新的模型，就是把你要的模型那一層加進去。這邊也發現以模型複雜程度來說，BiLSTM 包含更多的參數和計算步驟。因此，在訓練時，BiLSTM 模型需要更長的時間來學習和調整這些參數，所以是三者中在同樣資料集、同樣設定的狀況下，每個 epoch 訓練最久的模型。\n",
    "\n",
    "分別比較三種模型的結果，我比較訝異的是竟然是 RNN-GRU 的表現最好，BiLSTM 則次之，且二者的訓練過程之表現差異不大。因此這邊我推測是因為 IMDB 資料集的文本較短，RNN-GRU 的門控機制可以控制通過的訊息，提取更好的特徵。而雖然 BiLSTM 也有此機制，但雙向傳遞可能導致獲取過多的上下文資訊，使 overfitting 的情況發生，最後的 accuracy 反而不如 RNN-GRU。但這只是一種可能性，具體的原因可能需要更多的分析和實驗驗證。不過使用 RNN-GRU 和 BiLSTM 預測時，結果還是令人感到欣慰的，因為同樣的句子 positive 的結果都是 1，而 negative 的結果可以觀察到 BiLSTM 預測出來的數值較 RNN-GRU 更趨近於 0，我想，這在某種程度上證明 BiLSTM 可能更細緻一點。 \n",
    "\n",
    "接著比較 BiLSTM 和 BiRNN 的結果。雖然二者都是 Bidirectional 結構，但結果顯示，二者的表現還是有所差距。我想，可以從二者的結構來解釋。BiRNN 中的 RNN 只有一個簡單的循環神經網路層，對於短期記憶效果好，但是長期記憶效果較差。LSTM 則具有三個控制門，可以處理長、短期記憶，也解決了梯度消失的問題。因此，可能在大部分情況下，處理序列數據時，BiLSTM 優於 BiRNN。從訓練過程的圖片中也能觀察到，BiLSTM 比 BiRNN 還要穩定許多，基本上在一定次數的 epochs 之後都能趨於穩定，而 BiRNN 則好像受到文本的影響更大一些，一直到第 50 個 epoch 都還是各種竄動的狀態。而且在進行預測時，BiRNN 也是三者中唯一 positive 沒有等於 1，且 negative 數值最大的一個。\n",
    "\n",
    "透過這些比較，我猜測也許需要更長的文本才更能體現出 BiLSTM 的優勢，不然在一般情況下，RNN-GRU 已經能夠達到不錯的狀態且訓練時間也的確縮短許多。而 BiRNN 對我而言則像是硬要把 BiLSTM 中 Bidirectional 的概念放進來的模型😂，而忽略了其簡單的結構若是給它太多的資訊反而容易造成不穩定之反效果。最後，想要感嘆一下原來用 Gate 來控制輸入訊息是這麼重要的事情，因為 RNN-GRU 雖然沒有用到 Biderectional 的方式來獲取更多上下文資訊，但加入了 LSTM 中 Gate 的概念就能夠在縮短訓練時間的同時達到好的訓練結果。反觀 BiRNN 的結果，也許就是因為沒有好好過濾訊息（Gate），卻又加入太多上下文資訊（Biderectional），反而是此任務之三者中效果最差的模型。"
   ]
  }
 ],
 "metadata": {
  "kernelspec": {
   "display_name": "Python 3",
   "language": "python",
   "name": "python3"
  },
  "language_info": {
   "codemirror_mode": {
    "name": "ipython",
    "version": 3
   },
   "file_extension": ".py",
   "mimetype": "text/x-python",
   "name": "python",
   "nbconvert_exporter": "python",
   "pygments_lexer": "ipython3",
   "version": "3.8.2"
  }
 },
 "nbformat": 4,
 "nbformat_minor": 5
}
