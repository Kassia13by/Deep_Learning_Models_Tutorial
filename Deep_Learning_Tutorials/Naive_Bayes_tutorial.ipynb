{
 "cells": [
  {
   "cell_type": "markdown",
   "id": "4555235a",
   "metadata": {},
   "source": [
    "# Assignment\n",
    "\n",
    "1. Train a classification models of your own dataset, and calculate F-score. (Select from one of the three models that fit your dataset properly.)\n",
    "2. When the training set is small, we usually perform a cross-validation task for training the model. Assume that your own dataset is small, and train the model with 10-fold cross-validation. Calcuate its F-score. (Note that the you'll need to use the training set for cross-validation, instead of the whole dataset.) You might want to check on this document for [cross-validation](https://scikit-learn.org/stable/modules/cross_validation.html).\n",
    "3. Work on bootstraping for the test set. Bootstrap 300 times, and each time the subset should include at least 200 samples. Record every F-scores during bootstraping and draw a line chart as shown [here](https://www.analyticsvidhya.com/blog/2020/02/what-is-bootstrap-sampling-in-statistics-and-machine-learning/). Don't forget to output an average F-score of the 300 times bootstraping."
   ]
  },
  {
   "cell_type": "code",
   "execution_count": 1,
   "id": "f5a5a686",
   "metadata": {},
   "outputs": [],
   "source": [
    "import pandas as pd\n",
    "import seaborn as sns\n",
    "from sklearn.naive_bayes import GaussianNB\n",
    "from sklearn.naive_bayes import MultinomialNB\n",
    "from sklearn.naive_bayes import BernoulliNB\n",
    "from sklearn.preprocessing import LabelEncoder\n",
    "from sklearn.metrics import f1_score\n",
    "import numpy as np\n",
    "from sklearn.model_selection import train_test_split\n",
    "from sklearn.metrics import classification_report\n",
    "import matplotlib.pyplot as plt\n",
    "import random\n",
    "from random import choices\n",
    "from statistics import mean \n",
    "from sklearn.model_selection import cross_val_score\n",
    "from sklearn.metrics import confusion_matrix, ConfusionMatrixDisplay, precision_recall_fscore_support, accuracy_score"
   ]
  },
  {
   "cell_type": "markdown",
   "id": "3d7b1224",
   "metadata": {},
   "source": [
    "### Model Training (without 10-fold cross-validation)\n",
    "\n",
    "* 此份資料為信用卡用戶資料（從 Kaggle 取得）\n",
    "* 此次分類任務為透過用卡人之基本資訊（包含使用現況、年齡、性別、教育程度、婚姻狀況、卡別、卡片額度等等），去預測用卡人之薪水區間\n",
    "* 由於原始資料將薪水區間分得過細，故重新整理薪水區間之資料，刪除「Unknown」和「Less than 40K」，並將 80K-120K 和 120K 以上標示為「high」，剩下為「normal」的二元分類，置於 「label」 欄位\n",
    "* 因為是二元分類，且多為連續值之資料，故選用 GaussianNB 訓練"
   ]
  },
  {
   "cell_type": "code",
   "execution_count": 2,
   "id": "5f04cbd2",
   "metadata": {
    "scrolled": false
   },
   "outputs": [
    {
     "data": {
      "text/html": [
       "<div>\n",
       "<style scoped>\n",
       "    .dataframe tbody tr th:only-of-type {\n",
       "        vertical-align: middle;\n",
       "    }\n",
       "\n",
       "    .dataframe tbody tr th {\n",
       "        vertical-align: top;\n",
       "    }\n",
       "\n",
       "    .dataframe thead th {\n",
       "        text-align: right;\n",
       "    }\n",
       "</style>\n",
       "<table border=\"1\" class=\"dataframe\">\n",
       "  <thead>\n",
       "    <tr style=\"text-align: right;\">\n",
       "      <th></th>\n",
       "      <th>Attrition_Flag</th>\n",
       "      <th>Customer_Age</th>\n",
       "      <th>Gender</th>\n",
       "      <th>Dependent_count</th>\n",
       "      <th>Education_Level</th>\n",
       "      <th>Marital_Status</th>\n",
       "      <th>Card_Category</th>\n",
       "      <th>Months_on_book</th>\n",
       "      <th>Total_Relationship_Count</th>\n",
       "      <th>Months_Inactive_12_mon</th>\n",
       "      <th>Contacts_Count_12_mon</th>\n",
       "      <th>Credit_Limit</th>\n",
       "      <th>label</th>\n",
       "    </tr>\n",
       "    <tr>\n",
       "      <th>CLIENTNUM</th>\n",
       "      <th></th>\n",
       "      <th></th>\n",
       "      <th></th>\n",
       "      <th></th>\n",
       "      <th></th>\n",
       "      <th></th>\n",
       "      <th></th>\n",
       "      <th></th>\n",
       "      <th></th>\n",
       "      <th></th>\n",
       "      <th></th>\n",
       "      <th></th>\n",
       "      <th></th>\n",
       "    </tr>\n",
       "  </thead>\n",
       "  <tbody>\n",
       "    <tr>\n",
       "      <th>768805383</th>\n",
       "      <td>Existing Customer</td>\n",
       "      <td>45</td>\n",
       "      <td>M</td>\n",
       "      <td>3</td>\n",
       "      <td>High School</td>\n",
       "      <td>Married</td>\n",
       "      <td>Blue</td>\n",
       "      <td>39</td>\n",
       "      <td>5</td>\n",
       "      <td>1</td>\n",
       "      <td>3</td>\n",
       "      <td>12691.0</td>\n",
       "      <td>normal</td>\n",
       "    </tr>\n",
       "    <tr>\n",
       "      <th>713982108</th>\n",
       "      <td>Existing Customer</td>\n",
       "      <td>51</td>\n",
       "      <td>M</td>\n",
       "      <td>3</td>\n",
       "      <td>Graduate</td>\n",
       "      <td>Married</td>\n",
       "      <td>Blue</td>\n",
       "      <td>36</td>\n",
       "      <td>4</td>\n",
       "      <td>1</td>\n",
       "      <td>0</td>\n",
       "      <td>3418.0</td>\n",
       "      <td>high</td>\n",
       "    </tr>\n",
       "    <tr>\n",
       "      <th>709106358</th>\n",
       "      <td>Existing Customer</td>\n",
       "      <td>40</td>\n",
       "      <td>M</td>\n",
       "      <td>3</td>\n",
       "      <td>Uneducated</td>\n",
       "      <td>Married</td>\n",
       "      <td>Blue</td>\n",
       "      <td>21</td>\n",
       "      <td>5</td>\n",
       "      <td>1</td>\n",
       "      <td>0</td>\n",
       "      <td>4716.0</td>\n",
       "      <td>normal</td>\n",
       "    </tr>\n",
       "    <tr>\n",
       "      <th>713061558</th>\n",
       "      <td>Existing Customer</td>\n",
       "      <td>44</td>\n",
       "      <td>M</td>\n",
       "      <td>2</td>\n",
       "      <td>Graduate</td>\n",
       "      <td>Married</td>\n",
       "      <td>Blue</td>\n",
       "      <td>36</td>\n",
       "      <td>3</td>\n",
       "      <td>1</td>\n",
       "      <td>2</td>\n",
       "      <td>4010.0</td>\n",
       "      <td>normal</td>\n",
       "    </tr>\n",
       "    <tr>\n",
       "      <th>810347208</th>\n",
       "      <td>Existing Customer</td>\n",
       "      <td>51</td>\n",
       "      <td>M</td>\n",
       "      <td>4</td>\n",
       "      <td>Unknown</td>\n",
       "      <td>Married</td>\n",
       "      <td>Gold</td>\n",
       "      <td>46</td>\n",
       "      <td>6</td>\n",
       "      <td>1</td>\n",
       "      <td>3</td>\n",
       "      <td>34516.0</td>\n",
       "      <td>high</td>\n",
       "    </tr>\n",
       "    <tr>\n",
       "      <th>...</th>\n",
       "      <td>...</td>\n",
       "      <td>...</td>\n",
       "      <td>...</td>\n",
       "      <td>...</td>\n",
       "      <td>...</td>\n",
       "      <td>...</td>\n",
       "      <td>...</td>\n",
       "      <td>...</td>\n",
       "      <td>...</td>\n",
       "      <td>...</td>\n",
       "      <td>...</td>\n",
       "      <td>...</td>\n",
       "      <td>...</td>\n",
       "    </tr>\n",
       "    <tr>\n",
       "      <th>713755458</th>\n",
       "      <td>Attrited Customer</td>\n",
       "      <td>50</td>\n",
       "      <td>M</td>\n",
       "      <td>1</td>\n",
       "      <td>Unknown</td>\n",
       "      <td>Unknown</td>\n",
       "      <td>Blue</td>\n",
       "      <td>36</td>\n",
       "      <td>6</td>\n",
       "      <td>3</td>\n",
       "      <td>4</td>\n",
       "      <td>9959.0</td>\n",
       "      <td>high</td>\n",
       "    </tr>\n",
       "    <tr>\n",
       "      <th>710841183</th>\n",
       "      <td>Existing Customer</td>\n",
       "      <td>54</td>\n",
       "      <td>M</td>\n",
       "      <td>1</td>\n",
       "      <td>High School</td>\n",
       "      <td>Single</td>\n",
       "      <td>Blue</td>\n",
       "      <td>34</td>\n",
       "      <td>5</td>\n",
       "      <td>2</td>\n",
       "      <td>0</td>\n",
       "      <td>13940.0</td>\n",
       "      <td>normal</td>\n",
       "    </tr>\n",
       "    <tr>\n",
       "      <th>772366833</th>\n",
       "      <td>Existing Customer</td>\n",
       "      <td>50</td>\n",
       "      <td>M</td>\n",
       "      <td>2</td>\n",
       "      <td>Graduate</td>\n",
       "      <td>Single</td>\n",
       "      <td>Blue</td>\n",
       "      <td>40</td>\n",
       "      <td>3</td>\n",
       "      <td>2</td>\n",
       "      <td>3</td>\n",
       "      <td>4003.0</td>\n",
       "      <td>normal</td>\n",
       "    </tr>\n",
       "    <tr>\n",
       "      <th>710638233</th>\n",
       "      <td>Attrited Customer</td>\n",
       "      <td>41</td>\n",
       "      <td>M</td>\n",
       "      <td>2</td>\n",
       "      <td>Unknown</td>\n",
       "      <td>Divorced</td>\n",
       "      <td>Blue</td>\n",
       "      <td>25</td>\n",
       "      <td>4</td>\n",
       "      <td>2</td>\n",
       "      <td>3</td>\n",
       "      <td>4277.0</td>\n",
       "      <td>normal</td>\n",
       "    </tr>\n",
       "    <tr>\n",
       "      <th>717406983</th>\n",
       "      <td>Attrited Customer</td>\n",
       "      <td>30</td>\n",
       "      <td>M</td>\n",
       "      <td>2</td>\n",
       "      <td>Graduate</td>\n",
       "      <td>Unknown</td>\n",
       "      <td>Blue</td>\n",
       "      <td>36</td>\n",
       "      <td>4</td>\n",
       "      <td>3</td>\n",
       "      <td>3</td>\n",
       "      <td>5281.0</td>\n",
       "      <td>normal</td>\n",
       "    </tr>\n",
       "  </tbody>\n",
       "</table>\n",
       "<p>5454 rows × 13 columns</p>\n",
       "</div>"
      ],
      "text/plain": [
       "              Attrition_Flag  Customer_Age Gender  Dependent_count  \\\n",
       "CLIENTNUM                                                            \n",
       "768805383  Existing Customer            45      M                3   \n",
       "713982108  Existing Customer            51      M                3   \n",
       "709106358  Existing Customer            40      M                3   \n",
       "713061558  Existing Customer            44      M                2   \n",
       "810347208  Existing Customer            51      M                4   \n",
       "...                      ...           ...    ...              ...   \n",
       "713755458  Attrited Customer            50      M                1   \n",
       "710841183  Existing Customer            54      M                1   \n",
       "772366833  Existing Customer            50      M                2   \n",
       "710638233  Attrited Customer            41      M                2   \n",
       "717406983  Attrited Customer            30      M                2   \n",
       "\n",
       "          Education_Level Marital_Status Card_Category  Months_on_book  \\\n",
       "CLIENTNUM                                                                \n",
       "768805383     High School        Married          Blue              39   \n",
       "713982108        Graduate        Married          Blue              36   \n",
       "709106358      Uneducated        Married          Blue              21   \n",
       "713061558        Graduate        Married          Blue              36   \n",
       "810347208         Unknown        Married          Gold              46   \n",
       "...                   ...            ...           ...             ...   \n",
       "713755458         Unknown        Unknown          Blue              36   \n",
       "710841183     High School         Single          Blue              34   \n",
       "772366833        Graduate         Single          Blue              40   \n",
       "710638233         Unknown       Divorced          Blue              25   \n",
       "717406983        Graduate        Unknown          Blue              36   \n",
       "\n",
       "           Total_Relationship_Count  Months_Inactive_12_mon  \\\n",
       "CLIENTNUM                                                     \n",
       "768805383                         5                       1   \n",
       "713982108                         4                       1   \n",
       "709106358                         5                       1   \n",
       "713061558                         3                       1   \n",
       "810347208                         6                       1   \n",
       "...                             ...                     ...   \n",
       "713755458                         6                       3   \n",
       "710841183                         5                       2   \n",
       "772366833                         3                       2   \n",
       "710638233                         4                       2   \n",
       "717406983                         4                       3   \n",
       "\n",
       "           Contacts_Count_12_mon  Credit_Limit   label  \n",
       "CLIENTNUM                                               \n",
       "768805383                      3       12691.0  normal  \n",
       "713982108                      0        3418.0    high  \n",
       "709106358                      0        4716.0  normal  \n",
       "713061558                      2        4010.0  normal  \n",
       "810347208                      3       34516.0    high  \n",
       "...                          ...           ...     ...  \n",
       "713755458                      4        9959.0    high  \n",
       "710841183                      0       13940.0  normal  \n",
       "772366833                      3        4003.0  normal  \n",
       "710638233                      3        4277.0  normal  \n",
       "717406983                      3        5281.0  normal  \n",
       "\n",
       "[5454 rows x 13 columns]"
      ]
     },
     "execution_count": 2,
     "metadata": {},
     "output_type": "execute_result"
    }
   ],
   "source": [
    "# read the csv\n",
    "\n",
    "card = pd.read_csv('/Users/biaoyun/Documents/111 Spring Semester Gtaduated Institute/Data/BankChurners.csv', sep=',', index_col=0)\n",
    "card.drop(card.columns[[13, 14, 15, 16, 17, 18, 19, 20, 21]], axis=1, inplace=True)\n",
    "card = card[card.Income_Category != 'Unknown']\n",
    "card = card[card.Income_Category != 'Less than $40K']\n",
    "\n",
    "income_c = []\n",
    "\n",
    "for income in card['Income_Category']:\n",
    "    if income == '$80K - $120K':\n",
    "        income_c.append('high')\n",
    "    elif income == '$120K +':\n",
    "        income_c.append('high')\n",
    "    else:\n",
    "        income_c.append('normal')\n",
    "\n",
    "card['label'] = income_c\n",
    "card.drop(card.columns[[6]], axis=1, inplace=True)\n",
    "\n",
    "card"
   ]
  },
  {
   "cell_type": "code",
   "execution_count": 3,
   "id": "b1b1044f",
   "metadata": {
    "scrolled": true
   },
   "outputs": [
    {
     "name": "stdout",
     "output_type": "stream",
     "text": [
      "<class 'pandas.core.frame.DataFrame'>\n",
      "Int64Index: 5454 entries, 768805383 to 717406983\n",
      "Data columns (total 13 columns):\n",
      " #   Column                    Non-Null Count  Dtype  \n",
      "---  ------                    --------------  -----  \n",
      " 0   Attrition_Flag            5454 non-null   object \n",
      " 1   Customer_Age              5454 non-null   int64  \n",
      " 2   Gender                    5454 non-null   object \n",
      " 3   Dependent_count           5454 non-null   int64  \n",
      " 4   Education_Level           5454 non-null   object \n",
      " 5   Marital_Status            5454 non-null   object \n",
      " 6   Card_Category             5454 non-null   object \n",
      " 7   Months_on_book            5454 non-null   int64  \n",
      " 8   Total_Relationship_Count  5454 non-null   int64  \n",
      " 9   Months_Inactive_12_mon    5454 non-null   int64  \n",
      " 10  Contacts_Count_12_mon     5454 non-null   int64  \n",
      " 11  Credit_Limit              5454 non-null   float64\n",
      " 12  label                     5454 non-null   object \n",
      "dtypes: float64(1), int64(6), object(6)\n",
      "memory usage: 596.5+ KB\n"
     ]
    }
   ],
   "source": [
    "card.info()"
   ]
  },
  {
   "cell_type": "code",
   "execution_count": 5,
   "id": "c022f21b",
   "metadata": {},
   "outputs": [],
   "source": [
    "card.to_csv('/Users/biaoyun/Documents/111 Spring Semester Gtaduated Institute/Data/card.csv', sep = '\\t')"
   ]
  },
  {
   "cell_type": "code",
   "execution_count": 4,
   "id": "d34ca299",
   "metadata": {},
   "outputs": [],
   "source": [
    "# apply label encoder\n",
    "# select features \n",
    "# only 9 features were chosen\n",
    "\n",
    "card['Attrition_Flag'] = LabelEncoder().fit_transform(card.Attrition_Flag.values)\n",
    "card['Gender'] = LabelEncoder().fit_transform(card.Gender.values)\n",
    "card['Education_Level'] = LabelEncoder().fit_transform(card.Education_Level.values)\n",
    "card['Marital_Status'] = LabelEncoder().fit_transform(card.Marital_Status.values)\n",
    "card['Card_Category'] = LabelEncoder().fit_transform(card.Card_Category.values)\n",
    "card['label'] = LabelEncoder().fit_transform(card.label.values)\n",
    "\n",
    "features = card[[\"Attrition_Flag\", \"Customer_Age\" , \"Gender\", \"Dependent_count\", \"Education_Level\", \"Card_Category\", \"Months_on_book\", \"Months_Inactive_12_mon\", \"Credit_Limit\"]]\n",
    "target = card[\"label\"] "
   ]
  },
  {
   "cell_type": "markdown",
   "id": "53c6f0fb",
   "metadata": {},
   "source": [
    "* 這邊將 features & target 都換成 numpy array，為了方便最後做 bootstrapping 取樣"
   ]
  },
  {
   "cell_type": "code",
   "execution_count": 5,
   "id": "4c0f7450",
   "metadata": {},
   "outputs": [],
   "source": [
    "features = features.to_numpy()\n",
    "target = target.to_numpy()"
   ]
  },
  {
   "cell_type": "code",
   "execution_count": 6,
   "id": "9bf9ea9a",
   "metadata": {},
   "outputs": [],
   "source": [
    "# separate dataset into training and test sets (80:20)\n",
    "\n",
    "\n",
    "features_train, features_test, target_train, target_test = train_test_split(features, target, test_size = 0.2, random_state = 413)\n"
   ]
  },
  {
   "cell_type": "code",
   "execution_count": 7,
   "id": "224f8231",
   "metadata": {},
   "outputs": [],
   "source": [
    "modelg = GaussianNB()   # initialize the model\n",
    "GausNB = modelg.fit(features_train, target_train)   # train the model"
   ]
  },
  {
   "cell_type": "markdown",
   "id": "11619760",
   "metadata": {},
   "source": [
    "### Model Evaluation\n",
    "\n",
    "* 畫出 confusion matrix 以及 classification report (包含 accuracy、precision、recall 和 f-score)"
   ]
  },
  {
   "cell_type": "code",
   "execution_count": 8,
   "id": "8879380f",
   "metadata": {
    "scrolled": true
   },
   "outputs": [
    {
     "name": "stdout",
     "output_type": "stream",
     "text": [
      "[[274 189]\n",
      " [ 98 530]]\n",
      "              precision    recall  f1-score   support\n",
      "\n",
      "      normal       0.74      0.59      0.66       463\n",
      "        high       0.74      0.84      0.79       628\n",
      "\n",
      "    accuracy                           0.74      1091\n",
      "   macro avg       0.74      0.72      0.72      1091\n",
      "weighted avg       0.74      0.74      0.73      1091\n",
      "\n"
     ]
    }
   ],
   "source": [
    "# evaluate the performance\n",
    "\n",
    "\n",
    "predict_Gnb = GausNB.predict(features_test)\n",
    "\n",
    "\n",
    "print(confusion_matrix(target_test, predict_Gnb))\n",
    "print(classification_report(target_test, predict_Gnb, target_names=['normal', 'high']))"
   ]
  },
  {
   "cell_type": "code",
   "execution_count": 9,
   "id": "4bf01acd",
   "metadata": {},
   "outputs": [],
   "source": [
    "\n",
    "def model_metrics(prediction, label): \n",
    "    \n",
    "    print(ConfusionMatrixDisplay.from_predictions(label, prediction, cmap = \"Wistia\")) \n",
    "    evaluation = precision_recall_fscore_support(label, prediction, average='macro') \n",
    "    accuracy = accuracy_score(label, prediction) # 計算accuracy\n",
    "\n",
    "    print(\"accuracy: \" + str(round(accuracy, 2)) + \"\\nprecision: \" + str(round(evaluation[0], 2)) + \"\\nrecall: \" + str(round(evaluation[1], 2)) + \"\\nfscore: \" + str(round(evaluation[2],2)))"
   ]
  },
  {
   "cell_type": "code",
   "execution_count": 10,
   "id": "ec597f39",
   "metadata": {},
   "outputs": [
    {
     "name": "stdout",
     "output_type": "stream",
     "text": [
      "<sklearn.metrics._plot.confusion_matrix.ConfusionMatrixDisplay object at 0x7fae4eb36a60>\n",
      "accuracy: 0.74\n",
      "precision: 0.74\n",
      "recall: 0.72\n",
      "fscore: 0.72\n"
     ]
    },
    {
     "data": {
      "image/png": "[encoded data removed]",
      "text/plain": [
       "<Figure size 432x288 with 2 Axes>"
      ]
     },
     "metadata": {
      "needs_background": "light"
     },
     "output_type": "display_data"
    }
   ],
   "source": [
    "model_metrics(predict_Gnb, target_test)"
   ]
  },
  {
   "cell_type": "markdown",
   "id": "95b36dc7",
   "metadata": {},
   "source": [
    "### Model Training (with 10-fold cross-validation)\n",
    "\n",
    "* 在 training set 上做 10-fold cross-validation\n",
    "* 回傳 10-fold cross-validation 後的各項資訊"
   ]
  },
  {
   "cell_type": "code",
   "execution_count": 11,
   "id": "ef2599b9",
   "metadata": {},
   "outputs": [
    {
     "name": "stdout",
     "output_type": "stream",
     "text": [
      "Accuracy: 0.71 (+/- 0.04)\n",
      "Precision: 0.86 (+/- 0.03)\n",
      "Recall: 0.82 (+/- 0.04)\n",
      "F1-score: 0.68 (+/- 0.05)\n"
     ]
    }
   ],
   "source": [
    "ac = cross_val_score(GausNB, features_train, target_train, cv=10, scoring='accuracy')\n",
    "pr = cross_val_score(GausNB, features_train, target_train, cv=10, scoring='average_precision')\n",
    "re = cross_val_score(GausNB, features_train, target_train, cv=10, scoring='recall')\n",
    "f1 = cross_val_score(GausNB, features_train, target_train, cv=10, scoring='f1_macro')\n",
    "print(\"Accuracy: %0.2f (+/- %0.2f)\" % (ac.mean(), ac.std() * 2))\n",
    "print(\"Precision: %0.2f (+/- %0.2f)\" % (pr.mean(), pr.std() * 2))\n",
    "print(\"Recall: %0.2f (+/- %0.2f)\" % (re.mean(), re.std() * 2))\n",
    "print(\"F1-score: %0.2f (+/- %0.2f)\" % (f1.mean(), f1.std() * 2))"
   ]
  },
  {
   "cell_type": "markdown",
   "id": "fdb6c822",
   "metadata": {},
   "source": [
    "### Bootstrapping\n",
    "\n",
    "* bootstrapping 300 次\n",
    "* 樣本大小從 200 開始至 500\n",
    "* 取其 f-score 成績"
   ]
  },
  {
   "cell_type": "code",
   "execution_count": 12,
   "id": "b81d7cb8",
   "metadata": {},
   "outputs": [],
   "source": [
    "# bootstrap predictions\n",
    "\n",
    "\n",
    "f_score =[]\n",
    "sample_list = []\n",
    "\n",
    "for size in range(200, 500) :\n",
    "    features_test_bs = choices(features_test, k=size)\n",
    "    target_test_bs = choices(target_test, k=size)\n",
    "    # make predictions\n",
    "    predict_Gnb_bs = GausNB.predict(features_test_bs)\n",
    "    # evaluate model\n",
    "    score = f1_score(target_test_bs, predict_Gnb_bs)\n",
    "    f_score.append(score)\n",
    "    sample_list.append([size, mean(f_score)])\n",
    "    \n"
   ]
  },
  {
   "cell_type": "markdown",
   "id": "54742e59",
   "metadata": {},
   "source": [
    "* 畫出 bootstrapping f-score 與取樣大小、次數之圖\n",
    "* 可以發現一開始浮動非常大，f-score 很不固定，待 bootstrapping 次數增加、每次隨機抽取之樣本數越來越大，浮動也漸趨平緩\n",
    "* 大約在取樣大小 300、bootstrapping 100 次左右時結果開始收斂"
   ]
  },
  {
   "cell_type": "code",
   "execution_count": 13,
   "id": "06e95938",
   "metadata": {
    "scrolled": true
   },
   "outputs": [
    {
     "data": {
      "image/png": "[encoded data removed]",
      "text/plain": [
       "<Figure size 432x288 with 1 Axes>"
      ]
     },
     "metadata": {
      "needs_background": "light"
     },
     "output_type": "display_data"
    }
   ],
   "source": [
    "data = pd.DataFrame(sample_list, f_score, columns = ['sample_size', 'f_score'])\n",
    "ax = sns.lineplot(data = data, x = 'sample_size', y = 'f_score');"
   ]
  },
  {
   "cell_type": "markdown",
   "id": "30866b0c",
   "metadata": {},
   "source": [
    "* 算出 300 次的 f-score 平均"
   ]
  },
  {
   "cell_type": "code",
   "execution_count": 14,
   "id": "6bc8432d",
   "metadata": {},
   "outputs": [
    {
     "data": {
      "text/plain": [
       "0.6146086827562783"
      ]
     },
     "execution_count": 14,
     "metadata": {},
     "output_type": "execute_result"
    }
   ],
   "source": [
    "# average 300 times f-score\n",
    "\n",
    "average_f_score = mean(f_score)\n",
    "average_f_score"
   ]
  },
  {
   "cell_type": "markdown",
   "id": "58fcddaa",
   "metadata": {},
   "source": [
    "### Reflection\n",
    "\n",
    "* 透過 10-fold cross-validation 和 bootstrapping 可以發現，訓練模型時將資料切分並訓練 or test 多次時比較能看到模型平均表現，而非像最一開始什麼都沒做的結果那麼武斷\n",
    "* 此例中明顯看出取樣越多次越能達到平均，（什麼都沒有的f-score:0.72 最高，其次是 10-fold cross-validation 約在 0.68，而 300 次的 bootstrapping 的 平均0.61 則最低）\n",
    "* 不過也許要取樣的部分一致會比較好拿來比較 XD"
   ]
  }
 ],
 "metadata": {
  "kernelspec": {
   "display_name": "Python 3",
   "language": "python",
   "name": "python3"
  },
  "language_info": {
   "codemirror_mode": {
    "name": "ipython",
    "version": 3
   },
   "file_extension": ".py",
   "mimetype": "text/x-python",
   "name": "python",
   "nbconvert_exporter": "python",
   "pygments_lexer": "ipython3",
   "version": "3.8.2"
  }
 },
 "nbformat": 4,
 "nbformat_minor": 5
}
